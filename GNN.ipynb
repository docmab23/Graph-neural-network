{
  "nbformat": 4,
  "nbformat_minor": 0,
  "metadata": {
    "colab": {
      "name": "hw5.ipynb",
      "provenance": [],
      "collapsed_sections": []
    },
    "kernelspec": {
      "name": "python3",
      "display_name": "Python 3"
    },
    "language_info": {
      "name": "python"
    },
    "accelerator": "GPU"
  },
  "cells": [
    {
      "cell_type": "markdown",
      "source": [
        "# Introduction\n",
        "In this programming assignment, we will learn to implement graph neural networks (GNNs) using the PyTorch-Geometric (PyG) package and apply it on a real-world data from Open Graph Benchmark (OGB) datasets to predict the properties of chemical molecules."
      ],
      "metadata": {
        "id": "uf6hhr7tE-7t"
      }
    },
    {
      "cell_type": "markdown",
      "source": [
        "# Device\n",
        "You might need to use a GPU for this Colab to run quickly. Please click `Runtime` and then `Change runtime type`. Then set the `hardware accelerator` to **GPU**."
      ],
      "metadata": {
        "id": "lm5HqnMHFxet"
      }
    },
    {
      "cell_type": "code",
      "execution_count": 1,
      "metadata": {
        "id": "Q0N8b_e_i8fQ"
      },
      "outputs": [],
      "source": [
        "import torch"
      ]
    },
    {
      "cell_type": "code",
      "source": [
        "torch.__version__"
      ],
      "metadata": {
        "colab": {
          "base_uri": "https://localhost:8080/",
          "height": 35
        },
        "id": "Md6nwzo8jGyZ",
        "outputId": "eb5da56c-8203-47dd-fd16-1e2d2f5c6875"
      },
      "execution_count": 2,
      "outputs": [
        {
          "output_type": "execute_result",
          "data": {
            "text/plain": [
              "'1.10.0+cu111'"
            ],
            "application/vnd.google.colaboratory.intrinsic+json": {
              "type": "string"
            }
          },
          "metadata": {},
          "execution_count": 2
        }
      ]
    },
    {
      "cell_type": "markdown",
      "source": [
        "Download the necessary packages for PyG. Make sure that your version of torch matches the output from the cell above. In case of any issues, more information can be found on the [PyG's installation page](https://pytorch-geometric.readthedocs.io/en/latest/notes/installation.html)."
      ],
      "metadata": {
        "id": "PJwMEYfMF6Zq"
      }
    },
    {
      "cell_type": "code",
      "source": [
        "!pip install torch-scatter torch-sparse torch-cluster torch-spline-conv torch-geometric -f https://data.pyg.org/whl/torch-1.10.0+cu111.html"
      ],
      "metadata": {
        "colab": {
          "base_uri": "https://localhost:8080/"
        },
        "id": "czY4wsuTjJ6o",
        "outputId": "d48f7528-8ef0-4854-a522-82d4da6858cd"
      },
      "execution_count": 3,
      "outputs": [
        {
          "output_type": "stream",
          "name": "stdout",
          "text": [
            "Looking in links: https://data.pyg.org/whl/torch-1.10.0+cu111.html\n",
            "Collecting torch-scatter\n",
            "  Downloading https://data.pyg.org/whl/torch-1.10.0%2Bcu113/torch_scatter-2.0.9-cp37-cp37m-linux_x86_64.whl (7.9 MB)\n",
            "\u001b[K     |████████████████████████████████| 7.9 MB 42.5 MB/s \n",
            "\u001b[?25hCollecting torch-sparse\n",
            "  Downloading https://data.pyg.org/whl/torch-1.10.0%2Bcu113/torch_sparse-0.6.13-cp37-cp37m-linux_x86_64.whl (3.5 MB)\n",
            "\u001b[K     |████████████████████████████████| 3.5 MB 48.3 MB/s \n",
            "\u001b[?25hCollecting torch-cluster\n",
            "  Downloading https://data.pyg.org/whl/torch-1.10.0%2Bcu113/torch_cluster-1.6.0-cp37-cp37m-linux_x86_64.whl (2.5 MB)\n",
            "\u001b[K     |████████████████████████████████| 2.5 MB 40.9 MB/s \n",
            "\u001b[?25hCollecting torch-spline-conv\n",
            "  Downloading https://data.pyg.org/whl/torch-1.10.0%2Bcu113/torch_spline_conv-1.2.1-cp37-cp37m-linux_x86_64.whl (750 kB)\n",
            "\u001b[K     |████████████████████████████████| 750 kB 45.6 MB/s \n",
            "\u001b[?25hCollecting torch-geometric\n",
            "  Downloading torch_geometric-2.0.4.tar.gz (407 kB)\n",
            "\u001b[K     |████████████████████████████████| 407 kB 22.0 MB/s \n",
            "\u001b[?25hRequirement already satisfied: scipy in /usr/local/lib/python3.7/dist-packages (from torch-sparse) (1.4.1)\n",
            "Requirement already satisfied: tqdm in /usr/local/lib/python3.7/dist-packages (from torch-geometric) (4.63.0)\n",
            "Requirement already satisfied: numpy in /usr/local/lib/python3.7/dist-packages (from torch-geometric) (1.21.5)\n",
            "Requirement already satisfied: pandas in /usr/local/lib/python3.7/dist-packages (from torch-geometric) (1.3.5)\n",
            "Requirement already satisfied: jinja2 in /usr/local/lib/python3.7/dist-packages (from torch-geometric) (2.11.3)\n",
            "Requirement already satisfied: requests in /usr/local/lib/python3.7/dist-packages (from torch-geometric) (2.23.0)\n",
            "Requirement already satisfied: pyparsing in /usr/local/lib/python3.7/dist-packages (from torch-geometric) (3.0.7)\n",
            "Requirement already satisfied: scikit-learn in /usr/local/lib/python3.7/dist-packages (from torch-geometric) (1.0.2)\n",
            "Requirement already satisfied: MarkupSafe>=0.23 in /usr/local/lib/python3.7/dist-packages (from jinja2->torch-geometric) (2.0.1)\n",
            "Requirement already satisfied: pytz>=2017.3 in /usr/local/lib/python3.7/dist-packages (from pandas->torch-geometric) (2018.9)\n",
            "Requirement already satisfied: python-dateutil>=2.7.3 in /usr/local/lib/python3.7/dist-packages (from pandas->torch-geometric) (2.8.2)\n",
            "Requirement already satisfied: six>=1.5 in /usr/local/lib/python3.7/dist-packages (from python-dateutil>=2.7.3->pandas->torch-geometric) (1.15.0)\n",
            "Requirement already satisfied: idna<3,>=2.5 in /usr/local/lib/python3.7/dist-packages (from requests->torch-geometric) (2.10)\n",
            "Requirement already satisfied: certifi>=2017.4.17 in /usr/local/lib/python3.7/dist-packages (from requests->torch-geometric) (2021.10.8)\n",
            "Requirement already satisfied: urllib3!=1.25.0,!=1.25.1,<1.26,>=1.21.1 in /usr/local/lib/python3.7/dist-packages (from requests->torch-geometric) (1.24.3)\n",
            "Requirement already satisfied: chardet<4,>=3.0.2 in /usr/local/lib/python3.7/dist-packages (from requests->torch-geometric) (3.0.4)\n",
            "Requirement already satisfied: threadpoolctl>=2.0.0 in /usr/local/lib/python3.7/dist-packages (from scikit-learn->torch-geometric) (3.1.0)\n",
            "Requirement already satisfied: joblib>=0.11 in /usr/local/lib/python3.7/dist-packages (from scikit-learn->torch-geometric) (1.1.0)\n",
            "Building wheels for collected packages: torch-geometric\n",
            "  Building wheel for torch-geometric (setup.py) ... \u001b[?25l\u001b[?25hdone\n",
            "  Created wheel for torch-geometric: filename=torch_geometric-2.0.4-py3-none-any.whl size=616603 sha256=5ac7ec503f62b623bc0cec1b6163afdb99cf3fcec1489f06b9856ce9c438923c\n",
            "  Stored in directory: /root/.cache/pip/wheels/18/a6/a4/ca18c3051fcead866fe7b85700ee2240d883562a1bc70ce421\n",
            "Successfully built torch-geometric\n",
            "Installing collected packages: torch-spline-conv, torch-sparse, torch-scatter, torch-geometric, torch-cluster\n",
            "Successfully installed torch-cluster-1.6.0 torch-geometric-2.0.4 torch-scatter-2.0.9 torch-sparse-0.6.13 torch-spline-conv-1.2.1\n"
          ]
        }
      ]
    },
    {
      "cell_type": "markdown",
      "source": [
        "Install the OGB dataset package"
      ],
      "metadata": {
        "id": "ZzUvRCfgGYj9"
      }
    },
    {
      "cell_type": "code",
      "source": [
        "!pip install ogb"
      ],
      "metadata": {
        "id": "CO8gVzEhjwgV",
        "colab": {
          "base_uri": "https://localhost:8080/"
        },
        "outputId": "911a1196-4db0-49fd-fad9-97bafe6e414d"
      },
      "execution_count": 4,
      "outputs": [
        {
          "output_type": "stream",
          "name": "stdout",
          "text": [
            "Collecting ogb\n",
            "  Downloading ogb-1.3.3-py3-none-any.whl (78 kB)\n",
            "\u001b[?25l\r\u001b[K     |████▏                           | 10 kB 24.3 MB/s eta 0:00:01\r\u001b[K     |████████▍                       | 20 kB 11.6 MB/s eta 0:00:01\r\u001b[K     |████████████▋                   | 30 kB 10.1 MB/s eta 0:00:01\r\u001b[K     |████████████████▊               | 40 kB 10.2 MB/s eta 0:00:01\r\u001b[K     |█████████████████████           | 51 kB 7.9 MB/s eta 0:00:01\r\u001b[K     |█████████████████████████▏      | 61 kB 9.3 MB/s eta 0:00:01\r\u001b[K     |█████████████████████████████▎  | 71 kB 9.7 MB/s eta 0:00:01\r\u001b[K     |████████████████████████████████| 78 kB 4.8 MB/s \n",
            "\u001b[?25hRequirement already satisfied: numpy>=1.16.0 in /usr/local/lib/python3.7/dist-packages (from ogb) (1.21.5)\n",
            "Requirement already satisfied: torch>=1.6.0 in /usr/local/lib/python3.7/dist-packages (from ogb) (1.10.0+cu111)\n",
            "Requirement already satisfied: six>=1.12.0 in /usr/local/lib/python3.7/dist-packages (from ogb) (1.15.0)\n",
            "Requirement already satisfied: urllib3>=1.24.0 in /usr/local/lib/python3.7/dist-packages (from ogb) (1.24.3)\n",
            "Requirement already satisfied: pandas>=0.24.0 in /usr/local/lib/python3.7/dist-packages (from ogb) (1.3.5)\n",
            "Collecting outdated>=0.2.0\n",
            "  Downloading outdated-0.2.1-py3-none-any.whl (7.5 kB)\n",
            "Requirement already satisfied: tqdm>=4.29.0 in /usr/local/lib/python3.7/dist-packages (from ogb) (4.63.0)\n",
            "Requirement already satisfied: scikit-learn>=0.20.0 in /usr/local/lib/python3.7/dist-packages (from ogb) (1.0.2)\n",
            "Requirement already satisfied: requests in /usr/local/lib/python3.7/dist-packages (from outdated>=0.2.0->ogb) (2.23.0)\n",
            "Collecting littleutils\n",
            "  Downloading littleutils-0.2.2.tar.gz (6.6 kB)\n",
            "Requirement already satisfied: pytz>=2017.3 in /usr/local/lib/python3.7/dist-packages (from pandas>=0.24.0->ogb) (2018.9)\n",
            "Requirement already satisfied: python-dateutil>=2.7.3 in /usr/local/lib/python3.7/dist-packages (from pandas>=0.24.0->ogb) (2.8.2)\n",
            "Requirement already satisfied: threadpoolctl>=2.0.0 in /usr/local/lib/python3.7/dist-packages (from scikit-learn>=0.20.0->ogb) (3.1.0)\n",
            "Requirement already satisfied: joblib>=0.11 in /usr/local/lib/python3.7/dist-packages (from scikit-learn>=0.20.0->ogb) (1.1.0)\n",
            "Requirement already satisfied: scipy>=1.1.0 in /usr/local/lib/python3.7/dist-packages (from scikit-learn>=0.20.0->ogb) (1.4.1)\n",
            "Requirement already satisfied: typing-extensions in /usr/local/lib/python3.7/dist-packages (from torch>=1.6.0->ogb) (3.10.0.2)\n",
            "Requirement already satisfied: idna<3,>=2.5 in /usr/local/lib/python3.7/dist-packages (from requests->outdated>=0.2.0->ogb) (2.10)\n",
            "Requirement already satisfied: certifi>=2017.4.17 in /usr/local/lib/python3.7/dist-packages (from requests->outdated>=0.2.0->ogb) (2021.10.8)\n",
            "Requirement already satisfied: chardet<4,>=3.0.2 in /usr/local/lib/python3.7/dist-packages (from requests->outdated>=0.2.0->ogb) (3.0.4)\n",
            "Building wheels for collected packages: littleutils\n",
            "  Building wheel for littleutils (setup.py) ... \u001b[?25l\u001b[?25hdone\n",
            "  Created wheel for littleutils: filename=littleutils-0.2.2-py3-none-any.whl size=7048 sha256=5b4c1ded199cafed7e6b5b10abd704cca4fa2289be0d793d61a61f70f258a119\n",
            "  Stored in directory: /root/.cache/pip/wheels/d6/64/cd/32819b511a488e4993f2fab909a95330289c3f4e0f6ef4676d\n",
            "Successfully built littleutils\n",
            "Installing collected packages: littleutils, outdated, ogb\n",
            "Successfully installed littleutils-0.2.2 ogb-1.3.3 outdated-0.2.1\n"
          ]
        }
      ]
    },
    {
      "cell_type": "markdown",
      "source": [
        "Import packages to use"
      ],
      "metadata": {
        "id": "f8jXB9H1Gem4"
      }
    },
    {
      "cell_type": "code",
      "source": [
        "import copy\n",
        "\n",
        "from tqdm import tqdm\n",
        "import pandas as pd\n",
        "\n",
        "import torch\n",
        "import torch.nn.functional as F\n",
        "\n",
        "from torch_geometric.nn import GCNConv\n",
        "from torch_geometric.loader import DataLoader\n",
        "from torch_geometric.nn import global_add_pool, global_mean_pool\n",
        "from torch_geometric.utils import to_networkx\n",
        "\n",
        "import networkx as nx\n",
        "\n",
        "from ogb.graphproppred import PygGraphPropPredDataset, Evaluator\n",
        "from ogb.graphproppred.mol_encoder import AtomEncoder"
      ],
      "metadata": {
        "id": "zSi_JG-ajfRw"
      },
      "execution_count": 6,
      "outputs": []
    },
    {
      "cell_type": "markdown",
      "source": [
        "Now we are going to implement a Graph Convolutional Network (GCN) ([Kipf et al. (2017)](https://arxiv.org/pdf/1609.02907.pdf)) using the PyG's built-in `GCNConv` layer. \n",
        "\n",
        "You can take a look at the [tutorial](https://pytorch-geometric.readthedocs.io/en/latest/notes/introduction.html) of PyG.\n",
        "\n",
        "The following figure gives an overview of our GCN model.\n",
        "![test](https://drive.google.com/uc?id=128AuYAXNXGg7PIhJJ7e420DoPWKb-RtL)\n",
        "\n",
        "The model consists of multiple blocks connected sequentially. In each block (except the last one), there are four layers:\n",
        "1. a GCNConv layer\n",
        "2. a BN (Batch Normalization) layer; Batch Normalization is a useful technique to make training (very) deep neural networks faster and more stable. It calculates the input data's mean and standard deviation and uses them to scale the data, making it match a standard distribution, therefore mitigate the instability between batches¹. Read the [docs](https://pytorch.org/docs/stable/generated/torch.nn.BatchNorm1d.html) for more information.\n",
        "3. a ReLU activation layer\n",
        "4. a dropout layer\n",
        "\n",
        "The last block only has a GCNConv and a LogSoftmax layer.\n",
        "\n",
        "Complete the implementation of the GCN model:\n",
        "\n",
        "¹<small>The exact mechanism of batch normalization is still unclear. Search for more if interested.</small>"
      ],
      "metadata": {
        "id": "eQRUIDs7GhrE"
      }
    },
    {
      "cell_type": "code",
      "source": [
        "#from torch.nn.modules.batchnorm import BatchNorm1d\n",
        "class GCN(torch.nn.Module):\n",
        "  def __init__(self, input_dim, hidden_dim, output_dim, num_layers,\n",
        "                dropout=0.0, return_embeds=False):\n",
        "    super(GCN, self).__init__()\n",
        "\n",
        "    self.num_layers = num_layers\n",
        "    ############# Your code here ############\n",
        "    ## TODO: \n",
        "    ## Note:\n",
        "    ## 1. You should use torch.nn.ModuleList for self.convs and self.bns\n",
        "    ##   - see https://pytorch.org/docs/stable/generated/torch.nn.ModuleList.html\n",
        "    ## 2. self.convs has num_layers GCNConv layers\n",
        "    ## 3. self.bns has num_layers - 1 BatchNorm1d layers\n",
        "    ## 4. You should use torch.nn.LogSoftmax for self.softmax\n",
        "    ## 5. The parameters you can set for GCNConv include 'in_channels' and \n",
        "    ##   'out_channels'. For more information please refer to the documentation:\n",
        "    ## https://pytorch-geometric.readthedocs.io/en/latest/modules/nn.html#torch_geometric.nn.conv.GCNConv\n",
        "    ## 6. The only parameter you need to set for BatchNorm1d is 'num_features'\n",
        "    ##   For more information please refer to the documentation: \n",
        "    ##   https://pytorch.org/docs/stable/generated/torch.nn.BatchNorm1d.html\n",
        "    ## 7. You should use torch.nn.ReLU() for the activation layer\n",
        "    ## 8. Initialize a dropout layer using torch.nn.Dropout\n",
        "    ## (~10 lines of code)\n",
        "    #self.convs= torch.nn.ModuleList()\n",
        "    cn = []\n",
        "    cn.append(GCNConv(input_dim,hidden_dim))\n",
        "    for n in range(num_layers-2):\n",
        "      cn.append(GCNConv(hidden_dim,hidden_dim))\n",
        "    cn.append(GCNConv(hidden_dim,output_dim))\n",
        "    self.convs = torch.nn.ModuleList(cn)\n",
        "    #self.convs =  torch.nn.ModuleList([GCNConv(hidden_dim,hidden_dim) for i in range(num_layers-1)])\n",
        "    bn = []\n",
        "    #bn.append(torch.nn.modules.batchnorm.BatchNorm1d(num_features=input_dim))\n",
        "    for n in range(num_layers-1):\n",
        "      bn.append(torch.nn.modules.batchnorm.BatchNorm1d(num_features=hidden_dim))\n",
        "    #bn.append(torch.nn.modules.batchnorm.BatchNorm1d(num_features=output_dim))\n",
        "    #bn.append(BatchNorm1d(h))\n",
        "    #self.bns = torch.nn.ModuleList([torch.nn.BatchNorm1d(input_dim) for i in range(num_layers-1)])\n",
        "    self.bns = torch.nn.ModuleList(bn)\n",
        "    self.softmax = torch.nn.LogSoftmax()\n",
        "\n",
        "    # activation layer\n",
        "    self.activation =torch.nn.ReLU()\n",
        "\n",
        "    # creat a dropout layer using the dropout rate\n",
        "    self.dropout = torch.nn.Dropout(dropout)\n",
        "\n",
        "    #########################################       \n",
        "\n",
        "    # Skip classification layer and return node embeddings\n",
        "    self.return_embeds = return_embeds\n",
        "\n",
        "  def reset_parameters(self):\n",
        "      for conv in self.convs:\n",
        "          conv.reset_parameters()\n",
        "      for bn in self.bns:\n",
        "          bn.reset_parameters()\n",
        "\n",
        "  def forward(self, x, edge_index):\n",
        "      ############# Your code here ############\n",
        "      ## TODO: Implement a function that takes the feature tensor x and\n",
        "      ## edge_index tensor and returns the output tensor as\n",
        "      ## shown in the figure.`\n",
        "      ## Note:\n",
        "      ## 1. Construct the network as shown in the figure\n",
        "      ## 2. Note that there is no BN, activation, or dropout before the \n",
        "      ##   final output.\n",
        "      ## 3. If return_embeds is True, then skip the last softmax layer\n",
        "      ## (~10 lines of code)\n",
        "\n",
        "      for i,k in enumerate(self.convs):\n",
        "         x = self.convs[i](x,edge_index)\n",
        "         if i != len(self.convs)-1:\n",
        "          x = self.bns[i](x)\n",
        "          x = self.activation(x)\n",
        "          x = self.dropout(x)\n",
        "          #x = self.softmax(x)\n",
        "      if self.return_embeds==False:\n",
        "        out=self.softmax(x)\n",
        "      else:\n",
        "        out=x\n",
        "\n",
        "       \n",
        "\n",
        "            \n",
        "\n",
        "\n",
        "\n",
        "\n",
        "\n",
        "         \n",
        "\n",
        "      #########################################\n",
        "\n",
        "      return out"
      ],
      "metadata": {
        "id": "z9_zAHnSm7kI"
      },
      "execution_count": 7,
      "outputs": []
    },
    {
      "cell_type": "markdown",
      "source": [
        "Test our model using toy data。 The output size should be [16, 8]."
      ],
      "metadata": {
        "id": "VaQk2VnyJtqu"
      }
    },
    {
      "cell_type": "code",
      "source": [
        "toy_x = torch.rand((16, 8))\n",
        "toy_edge_index = torch.randint(0, 16, (2, 6))\n",
        "toy_model = GCN(8, 8, 1, 5)\n",
        "toy_y = toy_model(toy_x, toy_edge_index)\n",
        "print(toy_y.size())"
      ],
      "metadata": {
        "id": "ZEGUiEeHrvyY",
        "colab": {
          "base_uri": "https://localhost:8080/"
        },
        "outputId": "447ab405-5d0c-41f6-9752-cda86d3c30c9"
      },
      "execution_count": 8,
      "outputs": [
        {
          "output_type": "stream",
          "name": "stdout",
          "text": [
            "torch.Size([16, 1])\n"
          ]
        },
        {
          "output_type": "stream",
          "name": "stderr",
          "text": [
            "/usr/local/lib/python3.7/dist-packages/ipykernel_launcher.py:80: UserWarning: Implicit dimension choice for log_softmax has been deprecated. Change the call to include dim=X as an argument.\n"
          ]
        }
      ]
    },
    {
      "cell_type": "markdown",
      "source": [
        "# Graph-level prediction\n",
        "\n",
        "## The dataset\n",
        "\n",
        "Here we use the moltox21 dataset and our task is to predict the properties of a molecular. Each input graph represents a molecule, where nodes are atoms, and edges are chemical bonds. This is a multiclass binary classification problem, which means that the output is a vector of 0 or 1, representing whether the molecule has a property."
      ],
      "metadata": {
        "id": "uieQnLZCJ2qo"
      }
    },
    {
      "cell_type": "code",
      "source": [
        "TASKNAME = 'ogbg-moltox21'\n",
        "dataset = PygGraphPropPredDataset(name=TASKNAME)\n",
        "\n",
        "print('\\n{} molecules in the dataset'.format(dataset.len()))"
      ],
      "metadata": {
        "id": "JwrhgfqjkFqv",
        "colab": {
          "base_uri": "https://localhost:8080/"
        },
        "outputId": "2e32d54b-ad0d-46d9-b4f0-02c9a62c0171"
      },
      "execution_count": 9,
      "outputs": [
        {
          "output_type": "stream",
          "name": "stdout",
          "text": [
            "Downloading http://snap.stanford.edu/ogb/data/graphproppred/csv_mol_download/tox21.zip\n"
          ]
        },
        {
          "output_type": "stream",
          "name": "stderr",
          "text": [
            "Downloaded 0.00 GB: 100%|██████████| 2/2 [00:00<00:00,  4.10it/s]\n",
            "Processing...\n"
          ]
        },
        {
          "output_type": "stream",
          "name": "stdout",
          "text": [
            "Extracting dataset/tox21.zip\n",
            "Loading necessary files...\n",
            "This might take a while.\n",
            "Processing graphs...\n"
          ]
        },
        {
          "output_type": "stream",
          "name": "stderr",
          "text": [
            "100%|██████████| 7831/7831 [00:00<00:00, 107518.80it/s]\n"
          ]
        },
        {
          "output_type": "stream",
          "name": "stdout",
          "text": [
            "Converting graphs into PyG objects...\n"
          ]
        },
        {
          "output_type": "stream",
          "name": "stderr",
          "text": [
            "100%|██████████| 7831/7831 [00:00<00:00, 43469.32it/s]\n"
          ]
        },
        {
          "output_type": "stream",
          "name": "stdout",
          "text": [
            "Saving...\n",
            "\n",
            "7831 molecules in the dataset\n"
          ]
        },
        {
          "output_type": "stream",
          "name": "stderr",
          "text": [
            "Done!\n"
          ]
        }
      ]
    },
    {
      "cell_type": "markdown",
      "source": [
        "Let take a look at each input graph:"
      ],
      "metadata": {
        "id": "v7HCA3N6CQgZ"
      }
    },
    {
      "cell_type": "code",
      "source": [
        "molecule0 = dataset.get(0)\n",
        "nx.draw(to_networkx(molecule0))"
      ],
      "metadata": {
        "colab": {
          "base_uri": "https://localhost:8080/",
          "height": 319
        },
        "id": "MLauiehd_Aro",
        "outputId": "46663ed7-c549-47b9-b328-af7c334bf9c9"
      },
      "execution_count": 10,
      "outputs": [
        {
          "output_type": "display_data",
          "data": {
            "text/plain": [
              "<Figure size 432x288 with 1 Axes>"
            ],
            "image/png": "[encoded data removed]"
          },
          "metadata": {}
        }
      ]
    },
    {
      "cell_type": "markdown",
      "source": [
        "Features of a node (atom) includes atomic number and chirality."
      ],
      "metadata": {
        "id": "82du6dDkD3n_"
      }
    },
    {
      "cell_type": "code",
      "source": [
        "print('Molecule 0 has {} nodes (each with {} features);\\n\\\n",
        "           and {} edges (each with {} features)\\n'.format(\n",
        "           molecule0.num_nodes,\n",
        "           molecule0.num_node_features,\n",
        "           molecule0.num_edges,\n",
        "           molecule0.num_edge_features))\n",
        "\n",
        "print('Node features for molecule 0:')\n",
        "print(molecule0.x)"
      ],
      "metadata": {
        "colab": {
          "base_uri": "https://localhost:8080/"
        },
        "id": "xP6u4JpoCbKr",
        "outputId": "9e077246-e9fa-4104-aaf0-8e1135ef81a1"
      },
      "execution_count": 11,
      "outputs": [
        {
          "output_type": "stream",
          "name": "stdout",
          "text": [
            "Molecule 0 has 16 nodes (each with 9 features);\n",
            "           and 34 edges (each with 3 features)\n",
            "\n",
            "Node features for molecule 0:\n",
            "tensor([[ 5,  0,  4,  5,  3,  0,  2,  0,  0],\n",
            "        [ 5,  0,  4,  5,  2,  0,  2,  0,  0],\n",
            "        [ 7,  0,  2,  5,  0,  0,  1,  0,  0],\n",
            "        [ 5,  0,  3,  5,  0,  0,  1,  1,  1],\n",
            "        [ 5,  0,  3,  5,  1,  0,  1,  1,  1],\n",
            "        [ 5,  0,  3,  5,  1,  0,  1,  1,  1],\n",
            "        [ 5,  0,  3,  5,  0,  0,  1,  1,  1],\n",
            "        [ 6,  0,  2,  5,  0,  0,  1,  1,  1],\n",
            "        [ 5,  0,  3,  5,  0,  0,  1,  1,  1],\n",
            "        [15,  0,  4,  5,  0,  0,  2,  0,  0],\n",
            "        [ 6,  0,  3,  5,  2,  0,  2,  0,  0],\n",
            "        [ 7,  0,  1,  5,  0,  0,  1,  0,  0],\n",
            "        [ 7,  0,  1,  5,  0,  0,  1,  0,  0],\n",
            "        [15,  0,  2,  5,  0,  0,  1,  1,  1],\n",
            "        [ 5,  0,  3,  5,  0,  0,  1,  1,  1],\n",
            "        [ 5,  0,  3,  5,  1,  0,  1,  1,  1]])\n"
          ]
        }
      ]
    },
    {
      "cell_type": "markdown",
      "source": [
        "And this is what we want to predict (nan means unlabeled):"
      ],
      "metadata": {
        "id": "9TIqfF6sEP34"
      }
    },
    {
      "cell_type": "code",
      "source": [
        "print('Label for molecule 0:')\n",
        "print(molecule0.y)"
      ],
      "metadata": {
        "colab": {
          "base_uri": "https://localhost:8080/"
        },
        "id": "3OcPY8aFEPJA",
        "outputId": "27e6c96b-e9f3-42ca-c42e-d4de1c4629c9"
      },
      "execution_count": 12,
      "outputs": [
        {
          "output_type": "stream",
          "name": "stdout",
          "text": [
            "Label for molecule 0:\n",
            "tensor([[0., 0., 1., nan, nan, 0., 0., 1., 0., 0., 0., 0.]])\n"
          ]
        }
      ]
    },
    {
      "cell_type": "markdown",
      "source": [
        "## Training"
      ],
      "metadata": {
        "id": "j4eA29MaEeZ4"
      }
    },
    {
      "cell_type": "code",
      "source": [
        "device = 'cuda' if torch.cuda.is_available() else 'cpu'\n",
        "print('Device: {}'.format(device))"
      ],
      "metadata": {
        "id": "xoKDyFpxkRyX",
        "colab": {
          "base_uri": "https://localhost:8080/"
        },
        "outputId": "5bd28c43-5b31-478b-e90c-d3a177dcfbae"
      },
      "execution_count": 13,
      "outputs": [
        {
          "output_type": "stream",
          "name": "stdout",
          "text": [
            "Device: cuda\n"
          ]
        }
      ]
    },
    {
      "cell_type": "code",
      "source": [
        "split_idx = dataset.get_idx_split()"
      ],
      "metadata": {
        "id": "qtFQv9UylTG7"
      },
      "execution_count": 14,
      "outputs": []
    },
    {
      "cell_type": "code",
      "source": [
        "print('Task type: {}'.format(dataset.task_type))"
      ],
      "metadata": {
        "id": "5zejPWpal45w",
        "colab": {
          "base_uri": "https://localhost:8080/"
        },
        "outputId": "9624cbf2-942c-416d-85d8-53fc35fb5ea1"
      },
      "execution_count": 15,
      "outputs": [
        {
          "output_type": "stream",
          "name": "stdout",
          "text": [
            "Task type: binary classification\n"
          ]
        }
      ]
    },
    {
      "cell_type": "code",
      "source": [
        "train_loader = DataLoader(dataset[split_idx[\"train\"]], batch_size=32, shuffle=True, num_workers=0)\n",
        "valid_loader = DataLoader(dataset[split_idx[\"valid\"]], batch_size=32, shuffle=False, num_workers=0)\n",
        "test_loader = DataLoader(dataset[split_idx[\"test\"]], batch_size=32, shuffle=False, num_workers=0)"
      ],
      "metadata": {
        "id": "8aXu6fC3l5-P"
      },
      "execution_count": 16,
      "outputs": []
    },
    {
      "cell_type": "code",
      "source": [
        "### GCN to predict graph property\n",
        "class GCN_Graph(torch.nn.Module):\n",
        "  def __init__(self, hidden_dim, output_dim, num_layers, dropout):\n",
        "    super(GCN_Graph, self).__init__()\n",
        "\n",
        "    # Load encoders for Atoms in molecule graphs\n",
        "    self.node_encoder = AtomEncoder(hidden_dim)\n",
        "\n",
        "    # Node embedding model\n",
        "    # Note that the input_dim and output_dim are set to hidden_dim\n",
        "    self.gnn_node = GCN(hidden_dim, hidden_dim,\n",
        "      hidden_dim, num_layers, dropout, return_embeds=True)\n",
        "\n",
        "\n",
        "    ############# Your code here ############\n",
        "    ## Note:\n",
        "    ## 1. Initialize self.readout as a global mean pooling layer\n",
        "    ## For more information please refer to the documentation:\n",
        "    ## https://pytorch-geometric.readthedocs.io/en/latest/modules/nn.html#global-pooling-layers\n",
        "    \n",
        "    self.readout = global_mean_pool\n",
        "    \n",
        "    #########################################\n",
        "\n",
        "    # Output layer\n",
        "    self.linear = torch.nn.Linear(hidden_dim, output_dim)\n",
        "\n",
        "\n",
        "  def reset_parameters(self):\n",
        "    self.gnn_node.reset_parameters()\n",
        "    self.linear.reset_parameters()\n",
        "\n",
        "  def forward(self, batched_data):\n",
        "    # TODO: Implement a function that takes as input a \n",
        "    # mini-batch of graphs (torch_geometric.data.Batch) and \n",
        "    # returns the predicted graph property for each graph. \n",
        "    #\n",
        "    # NOTE: Since we are predicting graph level properties,\n",
        "    # your output will be a tensor with dimension equaling\n",
        "    # the number of graphs in the mini-batch\n",
        "\n",
        "\n",
        "    # Extract important attributes of our mini-batch\n",
        "    x, edge_index, batch = batched_data.x, batched_data.edge_index, batched_data.batch\n",
        "    embed = self.node_encoder(x)\n",
        "\n",
        "    ############# Your code here ############\n",
        "    ## Note:\n",
        "    ## 1. Construct node embeddings using existing GCN model\n",
        "    ## 2. Use the global pooling layer to aggregate features for each individual graph\n",
        "    ##   For more information please refer to the documentation:\n",
        "    ##   https://pytorch-geometric.readthedocs.io/en/latest/modules/nn.html#global-pooling-layers\n",
        "    ## 3. Use a linear layer to predict each graph's property\n",
        "    ## (~3 lines of code)\n",
        "\n",
        "    out = self.gnn_node(embed,edge_index)\n",
        "    out = self.readout(out,batch)\n",
        "    out = self.linear(out)\n",
        "    #out=fcn(out)\n",
        "\n",
        "\n",
        "    #########################################\n",
        "\n",
        "    return out"
      ],
      "metadata": {
        "id": "JPyzSW_LmNEO"
      },
      "execution_count": 68,
      "outputs": []
    },
    {
      "cell_type": "code",
      "source": [
        "def train(model, device, data_loader, optimizer, loss_fn):\n",
        "  model.train()\n",
        "  loss = 0\n",
        "\n",
        "  for step, batch in enumerate(tqdm(data_loader, desc=\"Iteration\")):\n",
        "    batch = batch.to(device)\n",
        "\n",
        "    if batch.x.shape[0] == 1 or batch.batch[-1] == 0:\n",
        "      pass\n",
        "    else:\n",
        "      ## ignore nan targets (unlabeled) when computing training loss.\n",
        "      is_labeled = batch.y == batch.y\n",
        "      optimizer.zero_grad()\n",
        "      out = model(batch)\n",
        "      loss = loss_fn(out[is_labeled], batch.y[is_labeled].type_as(out))\n",
        "      loss.backward()\n",
        "      optimizer.step()\n",
        "\n",
        "  return loss.item()"
      ],
      "metadata": {
        "id": "DlkQyU2m7sMB"
      },
      "execution_count": 69,
      "outputs": []
    },
    {
      "cell_type": "code",
      "source": [
        "# The evaluation function\n",
        "def eval(model, device, loader, evaluator, save_model_results=False, save_file=None):\n",
        "  model.eval()\n",
        "  y_true = []\n",
        "  y_pred = []\n",
        "\n",
        "  for step, batch in enumerate(tqdm(loader, desc=\"Iteration\")):\n",
        "    batch = batch.to(device)\n",
        "\n",
        "    if batch.x.shape[0] == 1:\n",
        "      pass\n",
        "    else:\n",
        "      with torch.no_grad():\n",
        "          pred = model(batch)\n",
        "\n",
        "      y_true.append(batch.y.view(pred.shape).detach().cpu())\n",
        "      y_pred.append(pred.detach().cpu())\n",
        "\n",
        "  y_true = torch.cat(y_true, dim = 0).numpy()\n",
        "  y_pred = torch.cat(y_pred, dim = 0).numpy()\n",
        "\n",
        "  input_dict = {\"y_true\": y_true, \"y_pred\": y_pred}\n",
        "\n",
        "  if save_model_results:\n",
        "    print (\"Saving Model Predictions\")\n",
        "    \n",
        "    # Create a pandas dataframe with a two columns\n",
        "    # y_pred | y_true\n",
        "    data = {}\n",
        "    data['y_pred'] = y_pred.reshape(-1)\n",
        "    data['y_true'] = y_true.reshape(-1)\n",
        "\n",
        "    df = pd.DataFrame(data=data)\n",
        "    # Save to csv\n",
        "    df.to_csv(f'{TASKNAME}_graph_' + save_file + '.csv', sep=',', index=False)\n",
        "\n",
        "  return evaluator.eval(input_dict)"
      ],
      "metadata": {
        "id": "bLOVgXjd8GkI"
      },
      "execution_count": 70,
      "outputs": []
    },
    {
      "cell_type": "markdown",
      "source": [
        "<a name='args_cell'></a> Define the hyper-parameters we are going to use:"
      ],
      "metadata": {
        "id": "yt8Ijr_NFkP6"
      }
    },
    {
      "cell_type": "code",
      "source": [
        "######### You can change the hyper-parameters here ##########\n",
        "args = {\n",
        "  'device': device,\n",
        "  'num_layers': 8,\n",
        "  'hidden_dim': 128,\n",
        "  'dropout': 0.2,\n",
        "  'lr': 0.001,\n",
        "  'epochs': 70,\n",
        "}"
      ],
      "metadata": {
        "id": "4nQFRl0vmGtH"
      },
      "execution_count": 75,
      "outputs": []
    },
    {
      "cell_type": "code",
      "source": [
        "model = GCN_Graph(args['hidden_dim'],\n",
        "              dataset.num_tasks, args['num_layers'],\n",
        "              args['dropout']).to(device)\n",
        "evaluator = Evaluator(name=TASKNAME)"
      ],
      "metadata": {
        "id": "H8pckotS8LT-"
      },
      "execution_count": 77,
      "outputs": []
    },
    {
      "cell_type": "code",
      "source": [
        "model.reset_parameters()\n",
        "\n",
        "optimizer = torch.optim.Adam(model.parameters(), lr=args['lr'])\n",
        "loss_fn = torch.nn.BCEWithLogitsLoss()\n",
        "\n",
        "best_model = None\n",
        "best_valid_acc = 0\n",
        "\n",
        "for epoch in range(1, 1 + args[\"epochs\"]):\n",
        "  print('Training...')\n",
        "  loss = train(model, device, train_loader, optimizer, loss_fn)\n",
        "\n",
        "  print('Evaluating...')\n",
        "  train_result = eval(model, device, train_loader, evaluator)\n",
        "  val_result = eval(model, device, valid_loader, evaluator)\n",
        "  test_result = eval(model, device, test_loader, evaluator)\n",
        "\n",
        "  train_acc, valid_acc, test_acc = train_result[dataset.eval_metric], val_result[dataset.eval_metric], test_result[dataset.eval_metric]\n",
        "  if valid_acc > best_valid_acc:\n",
        "      best_valid_acc = valid_acc\n",
        "      best_model = copy.deepcopy(model)\n",
        "  print(f'Epoch: {epoch:02d}, '\n",
        "     f'Loss: {loss:.4f}, '\n",
        "     f'Train: {100 * train_acc:.2f}%, '\n",
        "     f'Valid: {100 * valid_acc:.2f}% '\n",
        "     f'Test: {100 * test_acc:.2f}%')"
      ],
      "metadata": {
        "id": "IZCr8_xB8Sw4",
        "colab": {
          "base_uri": "https://localhost:8080/"
        },
        "outputId": "ea277073-3c79-431c-86fc-46812ae4492e"
      },
      "execution_count": 78,
      "outputs": [
        {
          "output_type": "stream",
          "name": "stdout",
          "text": [
            "Training...\n"
          ]
        },
        {
          "output_type": "stream",
          "name": "stderr",
          "text": [
            "Iteration: 100%|██████████| 196/196 [00:03<00:00, 55.34it/s]\n"
          ]
        },
        {
          "output_type": "stream",
          "name": "stdout",
          "text": [
            "Evaluating...\n"
          ]
        },
        {
          "output_type": "stream",
          "name": "stderr",
          "text": [
            "Iteration: 100%|██████████| 196/196 [00:02<00:00, 96.49it/s]\n",
            "Iteration: 100%|██████████| 25/25 [00:00<00:00, 97.11it/s]\n",
            "Iteration: 100%|██████████| 25/25 [00:00<00:00, 95.80it/s]\n"
          ]
        },
        {
          "output_type": "stream",
          "name": "stdout",
          "text": [
            "Epoch: 01, Loss: 0.2028, Train: 76.61%, Valid: 73.75% Test: 70.28%\n",
            "Training...\n"
          ]
        },
        {
          "output_type": "stream",
          "name": "stderr",
          "text": [
            "Iteration: 100%|██████████| 196/196 [00:03<00:00, 55.87it/s]\n"
          ]
        },
        {
          "output_type": "stream",
          "name": "stdout",
          "text": [
            "Evaluating...\n"
          ]
        },
        {
          "output_type": "stream",
          "name": "stderr",
          "text": [
            "Iteration: 100%|██████████| 196/196 [00:02<00:00, 94.31it/s]\n",
            "Iteration: 100%|██████████| 25/25 [00:00<00:00, 95.98it/s]\n",
            "Iteration: 100%|██████████| 25/25 [00:00<00:00, 95.55it/s]\n"
          ]
        },
        {
          "output_type": "stream",
          "name": "stdout",
          "text": [
            "Epoch: 02, Loss: 0.3531, Train: 79.65%, Valid: 73.20% Test: 69.00%\n",
            "Training...\n"
          ]
        },
        {
          "output_type": "stream",
          "name": "stderr",
          "text": [
            "Iteration: 100%|██████████| 196/196 [00:03<00:00, 54.76it/s]\n"
          ]
        },
        {
          "output_type": "stream",
          "name": "stdout",
          "text": [
            "Evaluating...\n"
          ]
        },
        {
          "output_type": "stream",
          "name": "stderr",
          "text": [
            "Iteration: 100%|██████████| 196/196 [00:02<00:00, 94.19it/s]\n",
            "Iteration: 100%|██████████| 25/25 [00:00<00:00, 96.66it/s]\n",
            "Iteration: 100%|██████████| 25/25 [00:00<00:00, 92.83it/s]\n"
          ]
        },
        {
          "output_type": "stream",
          "name": "stdout",
          "text": [
            "Epoch: 03, Loss: 0.1692, Train: 81.45%, Valid: 75.52% Test: 73.35%\n",
            "Training...\n"
          ]
        },
        {
          "output_type": "stream",
          "name": "stderr",
          "text": [
            "Iteration: 100%|██████████| 196/196 [00:03<00:00, 54.95it/s]\n"
          ]
        },
        {
          "output_type": "stream",
          "name": "stdout",
          "text": [
            "Evaluating...\n"
          ]
        },
        {
          "output_type": "stream",
          "name": "stderr",
          "text": [
            "Iteration: 100%|██████████| 196/196 [00:02<00:00, 93.07it/s]\n",
            "Iteration: 100%|██████████| 25/25 [00:00<00:00, 93.41it/s]\n",
            "Iteration: 100%|██████████| 25/25 [00:00<00:00, 93.44it/s]\n"
          ]
        },
        {
          "output_type": "stream",
          "name": "stdout",
          "text": [
            "Epoch: 04, Loss: 0.2126, Train: 81.40%, Valid: 75.58% Test: 71.36%\n",
            "Training...\n"
          ]
        },
        {
          "output_type": "stream",
          "name": "stderr",
          "text": [
            "Iteration: 100%|██████████| 196/196 [00:03<00:00, 54.95it/s]\n"
          ]
        },
        {
          "output_type": "stream",
          "name": "stdout",
          "text": [
            "Evaluating...\n"
          ]
        },
        {
          "output_type": "stream",
          "name": "stderr",
          "text": [
            "Iteration: 100%|██████████| 196/196 [00:02<00:00, 93.12it/s]\n",
            "Iteration: 100%|██████████| 25/25 [00:00<00:00, 90.53it/s]\n",
            "Iteration: 100%|██████████| 25/25 [00:00<00:00, 96.87it/s]\n"
          ]
        },
        {
          "output_type": "stream",
          "name": "stdout",
          "text": [
            "Epoch: 05, Loss: 0.1666, Train: 82.52%, Valid: 75.68% Test: 71.36%\n",
            "Training...\n"
          ]
        },
        {
          "output_type": "stream",
          "name": "stderr",
          "text": [
            "Iteration: 100%|██████████| 196/196 [00:03<00:00, 55.11it/s]\n"
          ]
        },
        {
          "output_type": "stream",
          "name": "stdout",
          "text": [
            "Evaluating...\n"
          ]
        },
        {
          "output_type": "stream",
          "name": "stderr",
          "text": [
            "Iteration: 100%|██████████| 196/196 [00:02<00:00, 94.87it/s]\n",
            "Iteration: 100%|██████████| 25/25 [00:00<00:00, 95.98it/s]\n",
            "Iteration: 100%|██████████| 25/25 [00:00<00:00, 97.82it/s]\n"
          ]
        },
        {
          "output_type": "stream",
          "name": "stdout",
          "text": [
            "Epoch: 06, Loss: 0.1001, Train: 84.32%, Valid: 76.43% Test: 74.03%\n",
            "Training...\n"
          ]
        },
        {
          "output_type": "stream",
          "name": "stderr",
          "text": [
            "Iteration: 100%|██████████| 196/196 [00:03<00:00, 54.95it/s]\n"
          ]
        },
        {
          "output_type": "stream",
          "name": "stdout",
          "text": [
            "Evaluating...\n"
          ]
        },
        {
          "output_type": "stream",
          "name": "stderr",
          "text": [
            "Iteration: 100%|██████████| 196/196 [00:02<00:00, 94.31it/s]\n",
            "Iteration: 100%|██████████| 25/25 [00:00<00:00, 95.90it/s]\n",
            "Iteration: 100%|██████████| 25/25 [00:00<00:00, 95.66it/s]\n"
          ]
        },
        {
          "output_type": "stream",
          "name": "stdout",
          "text": [
            "Epoch: 07, Loss: 0.1771, Train: 83.63%, Valid: 76.78% Test: 74.16%\n",
            "Training...\n"
          ]
        },
        {
          "output_type": "stream",
          "name": "stderr",
          "text": [
            "Iteration: 100%|██████████| 196/196 [00:03<00:00, 55.55it/s]\n"
          ]
        },
        {
          "output_type": "stream",
          "name": "stdout",
          "text": [
            "Evaluating...\n"
          ]
        },
        {
          "output_type": "stream",
          "name": "stderr",
          "text": [
            "Iteration: 100%|██████████| 196/196 [00:02<00:00, 93.84it/s]\n",
            "Iteration: 100%|██████████| 25/25 [00:00<00:00, 93.62it/s]\n",
            "Iteration: 100%|██████████| 25/25 [00:00<00:00, 92.40it/s]\n"
          ]
        },
        {
          "output_type": "stream",
          "name": "stdout",
          "text": [
            "Epoch: 08, Loss: 0.1779, Train: 84.41%, Valid: 74.91% Test: 72.31%\n",
            "Training...\n"
          ]
        },
        {
          "output_type": "stream",
          "name": "stderr",
          "text": [
            "Iteration: 100%|██████████| 196/196 [00:03<00:00, 53.98it/s]\n"
          ]
        },
        {
          "output_type": "stream",
          "name": "stdout",
          "text": [
            "Evaluating...\n"
          ]
        },
        {
          "output_type": "stream",
          "name": "stderr",
          "text": [
            "Iteration: 100%|██████████| 196/196 [00:02<00:00, 93.34it/s]\n",
            "Iteration: 100%|██████████| 25/25 [00:00<00:00, 90.92it/s]\n",
            "Iteration: 100%|██████████| 25/25 [00:00<00:00, 90.07it/s]\n"
          ]
        },
        {
          "output_type": "stream",
          "name": "stdout",
          "text": [
            "Epoch: 09, Loss: 0.3166, Train: 85.29%, Valid: 76.65% Test: 74.17%\n",
            "Training...\n"
          ]
        },
        {
          "output_type": "stream",
          "name": "stderr",
          "text": [
            "Iteration: 100%|██████████| 196/196 [00:04<00:00, 41.61it/s]\n"
          ]
        },
        {
          "output_type": "stream",
          "name": "stdout",
          "text": [
            "Evaluating...\n"
          ]
        },
        {
          "output_type": "stream",
          "name": "stderr",
          "text": [
            "Iteration: 100%|██████████| 196/196 [00:02<00:00, 93.93it/s]\n",
            "Iteration: 100%|██████████| 25/25 [00:00<00:00, 87.71it/s]\n",
            "Iteration: 100%|██████████| 25/25 [00:00<00:00, 95.72it/s]\n"
          ]
        },
        {
          "output_type": "stream",
          "name": "stdout",
          "text": [
            "Epoch: 10, Loss: 0.1257, Train: 84.87%, Valid: 76.17% Test: 73.90%\n",
            "Training...\n"
          ]
        },
        {
          "output_type": "stream",
          "name": "stderr",
          "text": [
            "Iteration: 100%|██████████| 196/196 [00:04<00:00, 47.98it/s]\n"
          ]
        },
        {
          "output_type": "stream",
          "name": "stdout",
          "text": [
            "Evaluating...\n"
          ]
        },
        {
          "output_type": "stream",
          "name": "stderr",
          "text": [
            "Iteration: 100%|██████████| 196/196 [00:03<00:00, 64.87it/s]\n",
            "Iteration: 100%|██████████| 25/25 [00:00<00:00, 94.54it/s]\n",
            "Iteration: 100%|██████████| 25/25 [00:00<00:00, 95.76it/s]\n"
          ]
        },
        {
          "output_type": "stream",
          "name": "stdout",
          "text": [
            "Epoch: 11, Loss: 0.1435, Train: 85.72%, Valid: 76.19% Test: 73.70%\n",
            "Training...\n"
          ]
        },
        {
          "output_type": "stream",
          "name": "stderr",
          "text": [
            "Iteration: 100%|██████████| 196/196 [00:03<00:00, 55.12it/s]\n"
          ]
        },
        {
          "output_type": "stream",
          "name": "stdout",
          "text": [
            "Evaluating...\n"
          ]
        },
        {
          "output_type": "stream",
          "name": "stderr",
          "text": [
            "Iteration: 100%|██████████| 196/196 [00:02<00:00, 94.14it/s]\n",
            "Iteration: 100%|██████████| 25/25 [00:00<00:00, 94.74it/s]\n",
            "Iteration: 100%|██████████| 25/25 [00:00<00:00, 93.38it/s]\n"
          ]
        },
        {
          "output_type": "stream",
          "name": "stdout",
          "text": [
            "Epoch: 12, Loss: 0.2072, Train: 85.26%, Valid: 77.20% Test: 73.69%\n",
            "Training...\n"
          ]
        },
        {
          "output_type": "stream",
          "name": "stderr",
          "text": [
            "Iteration: 100%|██████████| 196/196 [00:03<00:00, 54.98it/s]\n"
          ]
        },
        {
          "output_type": "stream",
          "name": "stdout",
          "text": [
            "Evaluating...\n"
          ]
        },
        {
          "output_type": "stream",
          "name": "stderr",
          "text": [
            "Iteration: 100%|██████████| 196/196 [00:02<00:00, 93.25it/s]\n",
            "Iteration: 100%|██████████| 25/25 [00:00<00:00, 92.87it/s]\n",
            "Iteration: 100%|██████████| 25/25 [00:00<00:00, 92.76it/s]\n"
          ]
        },
        {
          "output_type": "stream",
          "name": "stdout",
          "text": [
            "Epoch: 13, Loss: 0.1862, Train: 86.67%, Valid: 77.69% Test: 74.02%\n",
            "Training...\n"
          ]
        },
        {
          "output_type": "stream",
          "name": "stderr",
          "text": [
            "Iteration: 100%|██████████| 196/196 [00:03<00:00, 55.46it/s]\n"
          ]
        },
        {
          "output_type": "stream",
          "name": "stdout",
          "text": [
            "Evaluating...\n"
          ]
        },
        {
          "output_type": "stream",
          "name": "stderr",
          "text": [
            "Iteration: 100%|██████████| 196/196 [00:02<00:00, 94.34it/s]\n",
            "Iteration: 100%|██████████| 25/25 [00:00<00:00, 92.78it/s]\n",
            "Iteration: 100%|██████████| 25/25 [00:00<00:00, 95.64it/s]\n"
          ]
        },
        {
          "output_type": "stream",
          "name": "stdout",
          "text": [
            "Epoch: 14, Loss: 0.3815, Train: 85.59%, Valid: 75.87% Test: 73.98%\n",
            "Training...\n"
          ]
        },
        {
          "output_type": "stream",
          "name": "stderr",
          "text": [
            "Iteration: 100%|██████████| 196/196 [00:03<00:00, 55.42it/s]\n"
          ]
        },
        {
          "output_type": "stream",
          "name": "stdout",
          "text": [
            "Evaluating...\n"
          ]
        },
        {
          "output_type": "stream",
          "name": "stderr",
          "text": [
            "Iteration: 100%|██████████| 196/196 [00:02<00:00, 94.37it/s]\n",
            "Iteration: 100%|██████████| 25/25 [00:00<00:00, 94.23it/s]\n",
            "Iteration: 100%|██████████| 25/25 [00:00<00:00, 95.14it/s]\n"
          ]
        },
        {
          "output_type": "stream",
          "name": "stdout",
          "text": [
            "Epoch: 15, Loss: 0.2205, Train: 86.37%, Valid: 75.94% Test: 74.15%\n",
            "Training...\n"
          ]
        },
        {
          "output_type": "stream",
          "name": "stderr",
          "text": [
            "Iteration: 100%|██████████| 196/196 [00:03<00:00, 54.88it/s]\n"
          ]
        },
        {
          "output_type": "stream",
          "name": "stdout",
          "text": [
            "Evaluating...\n"
          ]
        },
        {
          "output_type": "stream",
          "name": "stderr",
          "text": [
            "Iteration: 100%|██████████| 196/196 [00:02<00:00, 93.07it/s]\n",
            "Iteration: 100%|██████████| 25/25 [00:00<00:00, 94.82it/s]\n",
            "Iteration: 100%|██████████| 25/25 [00:00<00:00, 95.64it/s]\n"
          ]
        },
        {
          "output_type": "stream",
          "name": "stdout",
          "text": [
            "Epoch: 16, Loss: 0.1904, Train: 87.07%, Valid: 77.03% Test: 73.94%\n",
            "Training...\n"
          ]
        },
        {
          "output_type": "stream",
          "name": "stderr",
          "text": [
            "Iteration: 100%|██████████| 196/196 [00:03<00:00, 54.83it/s]\n"
          ]
        },
        {
          "output_type": "stream",
          "name": "stdout",
          "text": [
            "Evaluating...\n"
          ]
        },
        {
          "output_type": "stream",
          "name": "stderr",
          "text": [
            "Iteration: 100%|██████████| 196/196 [00:02<00:00, 92.65it/s]\n",
            "Iteration: 100%|██████████| 25/25 [00:00<00:00, 93.54it/s]\n",
            "Iteration: 100%|██████████| 25/25 [00:00<00:00, 96.71it/s]\n"
          ]
        },
        {
          "output_type": "stream",
          "name": "stdout",
          "text": [
            "Epoch: 17, Loss: 0.1763, Train: 87.44%, Valid: 76.91% Test: 74.12%\n",
            "Training...\n"
          ]
        },
        {
          "output_type": "stream",
          "name": "stderr",
          "text": [
            "Iteration: 100%|██████████| 196/196 [00:03<00:00, 54.48it/s]\n"
          ]
        },
        {
          "output_type": "stream",
          "name": "stdout",
          "text": [
            "Evaluating...\n"
          ]
        },
        {
          "output_type": "stream",
          "name": "stderr",
          "text": [
            "Iteration: 100%|██████████| 196/196 [00:02<00:00, 94.54it/s]\n",
            "Iteration: 100%|██████████| 25/25 [00:00<00:00, 96.02it/s]\n",
            "Iteration: 100%|██████████| 25/25 [00:00<00:00, 95.36it/s]\n"
          ]
        },
        {
          "output_type": "stream",
          "name": "stdout",
          "text": [
            "Epoch: 18, Loss: 0.0770, Train: 87.51%, Valid: 77.12% Test: 74.47%\n",
            "Training...\n"
          ]
        },
        {
          "output_type": "stream",
          "name": "stderr",
          "text": [
            "Iteration: 100%|██████████| 196/196 [00:03<00:00, 55.10it/s]\n"
          ]
        },
        {
          "output_type": "stream",
          "name": "stdout",
          "text": [
            "Evaluating...\n"
          ]
        },
        {
          "output_type": "stream",
          "name": "stderr",
          "text": [
            "Iteration: 100%|██████████| 196/196 [00:02<00:00, 95.28it/s]\n",
            "Iteration: 100%|██████████| 25/25 [00:00<00:00, 96.07it/s]\n",
            "Iteration: 100%|██████████| 25/25 [00:00<00:00, 90.47it/s]\n"
          ]
        },
        {
          "output_type": "stream",
          "name": "stdout",
          "text": [
            "Epoch: 19, Loss: 0.2290, Train: 88.57%, Valid: 76.89% Test: 74.80%\n",
            "Training...\n"
          ]
        },
        {
          "output_type": "stream",
          "name": "stderr",
          "text": [
            "Iteration: 100%|██████████| 196/196 [00:03<00:00, 55.85it/s]\n"
          ]
        },
        {
          "output_type": "stream",
          "name": "stdout",
          "text": [
            "Evaluating...\n"
          ]
        },
        {
          "output_type": "stream",
          "name": "stderr",
          "text": [
            "Iteration: 100%|██████████| 196/196 [00:02<00:00, 94.53it/s]\n",
            "Iteration: 100%|██████████| 25/25 [00:00<00:00, 95.06it/s]\n",
            "Iteration: 100%|██████████| 25/25 [00:00<00:00, 90.87it/s]\n"
          ]
        },
        {
          "output_type": "stream",
          "name": "stdout",
          "text": [
            "Epoch: 20, Loss: 0.1335, Train: 88.59%, Valid: 77.81% Test: 74.22%\n",
            "Training...\n"
          ]
        },
        {
          "output_type": "stream",
          "name": "stderr",
          "text": [
            "Iteration: 100%|██████████| 196/196 [00:03<00:00, 55.47it/s]\n"
          ]
        },
        {
          "output_type": "stream",
          "name": "stdout",
          "text": [
            "Evaluating...\n"
          ]
        },
        {
          "output_type": "stream",
          "name": "stderr",
          "text": [
            "Iteration: 100%|██████████| 196/196 [00:02<00:00, 73.04it/s]\n",
            "Iteration: 100%|██████████| 25/25 [00:00<00:00, 57.27it/s]\n",
            "Iteration: 100%|██████████| 25/25 [00:00<00:00, 93.98it/s]\n"
          ]
        },
        {
          "output_type": "stream",
          "name": "stdout",
          "text": [
            "Epoch: 21, Loss: 0.1757, Train: 88.34%, Valid: 77.72% Test: 73.51%\n",
            "Training...\n"
          ]
        },
        {
          "output_type": "stream",
          "name": "stderr",
          "text": [
            "Iteration: 100%|██████████| 196/196 [00:03<00:00, 55.25it/s]\n"
          ]
        },
        {
          "output_type": "stream",
          "name": "stdout",
          "text": [
            "Evaluating...\n"
          ]
        },
        {
          "output_type": "stream",
          "name": "stderr",
          "text": [
            "Iteration: 100%|██████████| 196/196 [00:02<00:00, 93.51it/s]\n",
            "Iteration: 100%|██████████| 25/25 [00:00<00:00, 92.17it/s]\n",
            "Iteration: 100%|██████████| 25/25 [00:00<00:00, 96.71it/s]\n"
          ]
        },
        {
          "output_type": "stream",
          "name": "stdout",
          "text": [
            "Epoch: 22, Loss: 0.2181, Train: 88.12%, Valid: 77.74% Test: 73.76%\n",
            "Training...\n"
          ]
        },
        {
          "output_type": "stream",
          "name": "stderr",
          "text": [
            "Iteration: 100%|██████████| 196/196 [00:03<00:00, 54.79it/s]\n"
          ]
        },
        {
          "output_type": "stream",
          "name": "stdout",
          "text": [
            "Evaluating...\n"
          ]
        },
        {
          "output_type": "stream",
          "name": "stderr",
          "text": [
            "Iteration: 100%|██████████| 196/196 [00:02<00:00, 94.66it/s]\n",
            "Iteration: 100%|██████████| 25/25 [00:00<00:00, 94.60it/s]\n",
            "Iteration: 100%|██████████| 25/25 [00:00<00:00, 95.32it/s]\n"
          ]
        },
        {
          "output_type": "stream",
          "name": "stdout",
          "text": [
            "Epoch: 23, Loss: 0.0763, Train: 88.94%, Valid: 77.03% Test: 73.25%\n",
            "Training...\n"
          ]
        },
        {
          "output_type": "stream",
          "name": "stderr",
          "text": [
            "Iteration: 100%|██████████| 196/196 [00:03<00:00, 55.02it/s]\n"
          ]
        },
        {
          "output_type": "stream",
          "name": "stdout",
          "text": [
            "Evaluating...\n"
          ]
        },
        {
          "output_type": "stream",
          "name": "stderr",
          "text": [
            "Iteration: 100%|██████████| 196/196 [00:02<00:00, 94.51it/s]\n",
            "Iteration: 100%|██████████| 25/25 [00:00<00:00, 94.38it/s]\n",
            "Iteration: 100%|██████████| 25/25 [00:00<00:00, 95.96it/s]\n"
          ]
        },
        {
          "output_type": "stream",
          "name": "stdout",
          "text": [
            "Epoch: 24, Loss: 0.2335, Train: 87.94%, Valid: 76.61% Test: 74.09%\n",
            "Training...\n"
          ]
        },
        {
          "output_type": "stream",
          "name": "stderr",
          "text": [
            "Iteration: 100%|██████████| 196/196 [00:03<00:00, 55.00it/s]\n"
          ]
        },
        {
          "output_type": "stream",
          "name": "stdout",
          "text": [
            "Evaluating...\n"
          ]
        },
        {
          "output_type": "stream",
          "name": "stderr",
          "text": [
            "Iteration: 100%|██████████| 196/196 [00:02<00:00, 95.17it/s]\n",
            "Iteration: 100%|██████████| 25/25 [00:00<00:00, 94.99it/s]\n",
            "Iteration: 100%|██████████| 25/25 [00:00<00:00, 95.02it/s]\n"
          ]
        },
        {
          "output_type": "stream",
          "name": "stdout",
          "text": [
            "Epoch: 25, Loss: 0.1248, Train: 89.28%, Valid: 77.07% Test: 73.92%\n",
            "Training...\n"
          ]
        },
        {
          "output_type": "stream",
          "name": "stderr",
          "text": [
            "Iteration: 100%|██████████| 196/196 [00:03<00:00, 55.28it/s]\n"
          ]
        },
        {
          "output_type": "stream",
          "name": "stdout",
          "text": [
            "Evaluating...\n"
          ]
        },
        {
          "output_type": "stream",
          "name": "stderr",
          "text": [
            "Iteration: 100%|██████████| 196/196 [00:02<00:00, 94.59it/s]\n",
            "Iteration: 100%|██████████| 25/25 [00:00<00:00, 86.39it/s]\n",
            "Iteration: 100%|██████████| 25/25 [00:00<00:00, 96.66it/s]\n"
          ]
        },
        {
          "output_type": "stream",
          "name": "stdout",
          "text": [
            "Epoch: 26, Loss: 0.1379, Train: 89.00%, Valid: 76.88% Test: 74.81%\n",
            "Training...\n"
          ]
        },
        {
          "output_type": "stream",
          "name": "stderr",
          "text": [
            "Iteration: 100%|██████████| 196/196 [00:03<00:00, 55.68it/s]\n"
          ]
        },
        {
          "output_type": "stream",
          "name": "stdout",
          "text": [
            "Evaluating...\n"
          ]
        },
        {
          "output_type": "stream",
          "name": "stderr",
          "text": [
            "Iteration: 100%|██████████| 196/196 [00:02<00:00, 95.64it/s]\n",
            "Iteration: 100%|██████████| 25/25 [00:00<00:00, 95.12it/s]\n",
            "Iteration: 100%|██████████| 25/25 [00:00<00:00, 94.69it/s]\n"
          ]
        },
        {
          "output_type": "stream",
          "name": "stdout",
          "text": [
            "Epoch: 27, Loss: 0.1649, Train: 89.06%, Valid: 76.05% Test: 74.50%\n",
            "Training...\n"
          ]
        },
        {
          "output_type": "stream",
          "name": "stderr",
          "text": [
            "Iteration: 100%|██████████| 196/196 [00:03<00:00, 54.20it/s]\n"
          ]
        },
        {
          "output_type": "stream",
          "name": "stdout",
          "text": [
            "Evaluating...\n"
          ]
        },
        {
          "output_type": "stream",
          "name": "stderr",
          "text": [
            "Iteration: 100%|██████████| 196/196 [00:02<00:00, 93.93it/s]\n",
            "Iteration: 100%|██████████| 25/25 [00:00<00:00, 92.20it/s]\n",
            "Iteration: 100%|██████████| 25/25 [00:00<00:00, 89.94it/s]\n"
          ]
        },
        {
          "output_type": "stream",
          "name": "stdout",
          "text": [
            "Epoch: 28, Loss: 0.0967, Train: 89.67%, Valid: 76.88% Test: 75.65%\n",
            "Training...\n"
          ]
        },
        {
          "output_type": "stream",
          "name": "stderr",
          "text": [
            "Iteration: 100%|██████████| 196/196 [00:03<00:00, 55.92it/s]\n"
          ]
        },
        {
          "output_type": "stream",
          "name": "stdout",
          "text": [
            "Evaluating...\n"
          ]
        },
        {
          "output_type": "stream",
          "name": "stderr",
          "text": [
            "Iteration: 100%|██████████| 196/196 [00:02<00:00, 95.76it/s]\n",
            "Iteration: 100%|██████████| 25/25 [00:00<00:00, 94.62it/s]\n",
            "Iteration: 100%|██████████| 25/25 [00:00<00:00, 94.58it/s]\n"
          ]
        },
        {
          "output_type": "stream",
          "name": "stdout",
          "text": [
            "Epoch: 29, Loss: 0.1381, Train: 89.46%, Valid: 77.01% Test: 74.00%\n",
            "Training...\n"
          ]
        },
        {
          "output_type": "stream",
          "name": "stderr",
          "text": [
            "Iteration: 100%|██████████| 196/196 [00:03<00:00, 55.81it/s]\n"
          ]
        },
        {
          "output_type": "stream",
          "name": "stdout",
          "text": [
            "Evaluating...\n"
          ]
        },
        {
          "output_type": "stream",
          "name": "stderr",
          "text": [
            "Iteration: 100%|██████████| 196/196 [00:02<00:00, 95.02it/s]\n",
            "Iteration: 100%|██████████| 25/25 [00:00<00:00, 92.54it/s]\n",
            "Iteration: 100%|██████████| 25/25 [00:00<00:00, 92.92it/s]\n"
          ]
        },
        {
          "output_type": "stream",
          "name": "stdout",
          "text": [
            "Epoch: 30, Loss: 0.1459, Train: 89.12%, Valid: 77.94% Test: 73.52%\n",
            "Training...\n"
          ]
        },
        {
          "output_type": "stream",
          "name": "stderr",
          "text": [
            "Iteration: 100%|██████████| 196/196 [00:03<00:00, 56.03it/s]\n"
          ]
        },
        {
          "output_type": "stream",
          "name": "stdout",
          "text": [
            "Evaluating...\n"
          ]
        },
        {
          "output_type": "stream",
          "name": "stderr",
          "text": [
            "Iteration: 100%|██████████| 196/196 [00:02<00:00, 94.60it/s]\n",
            "Iteration: 100%|██████████| 25/25 [00:00<00:00, 94.25it/s]\n",
            "Iteration: 100%|██████████| 25/25 [00:00<00:00, 97.05it/s]\n"
          ]
        },
        {
          "output_type": "stream",
          "name": "stdout",
          "text": [
            "Epoch: 31, Loss: 0.2138, Train: 90.12%, Valid: 78.20% Test: 74.12%\n",
            "Training...\n"
          ]
        },
        {
          "output_type": "stream",
          "name": "stderr",
          "text": [
            "Iteration: 100%|██████████| 196/196 [00:03<00:00, 55.73it/s]\n"
          ]
        },
        {
          "output_type": "stream",
          "name": "stdout",
          "text": [
            "Evaluating...\n"
          ]
        },
        {
          "output_type": "stream",
          "name": "stderr",
          "text": [
            "Iteration: 100%|██████████| 196/196 [00:02<00:00, 96.60it/s]\n",
            "Iteration: 100%|██████████| 25/25 [00:00<00:00, 92.10it/s]\n",
            "Iteration: 100%|██████████| 25/25 [00:00<00:00, 95.44it/s]\n"
          ]
        },
        {
          "output_type": "stream",
          "name": "stdout",
          "text": [
            "Epoch: 32, Loss: 0.1068, Train: 90.37%, Valid: 77.62% Test: 73.64%\n",
            "Training...\n"
          ]
        },
        {
          "output_type": "stream",
          "name": "stderr",
          "text": [
            "Iteration: 100%|██████████| 196/196 [00:03<00:00, 55.11it/s]\n"
          ]
        },
        {
          "output_type": "stream",
          "name": "stdout",
          "text": [
            "Evaluating...\n"
          ]
        },
        {
          "output_type": "stream",
          "name": "stderr",
          "text": [
            "Iteration: 100%|██████████| 196/196 [00:02<00:00, 96.10it/s]\n",
            "Iteration: 100%|██████████| 25/25 [00:00<00:00, 96.93it/s]\n",
            "Iteration: 100%|██████████| 25/25 [00:00<00:00, 97.95it/s]\n"
          ]
        },
        {
          "output_type": "stream",
          "name": "stdout",
          "text": [
            "Epoch: 33, Loss: 0.2296, Train: 90.42%, Valid: 78.15% Test: 75.87%\n",
            "Training...\n"
          ]
        },
        {
          "output_type": "stream",
          "name": "stderr",
          "text": [
            "Iteration: 100%|██████████| 196/196 [00:03<00:00, 55.88it/s]\n"
          ]
        },
        {
          "output_type": "stream",
          "name": "stdout",
          "text": [
            "Evaluating...\n"
          ]
        },
        {
          "output_type": "stream",
          "name": "stderr",
          "text": [
            "Iteration: 100%|██████████| 196/196 [00:02<00:00, 95.42it/s]\n",
            "Iteration: 100%|██████████| 25/25 [00:00<00:00, 95.15it/s]\n",
            "Iteration: 100%|██████████| 25/25 [00:00<00:00, 91.48it/s]\n"
          ]
        },
        {
          "output_type": "stream",
          "name": "stdout",
          "text": [
            "Epoch: 34, Loss: 0.2895, Train: 90.08%, Valid: 77.54% Test: 73.53%\n",
            "Training...\n"
          ]
        },
        {
          "output_type": "stream",
          "name": "stderr",
          "text": [
            "Iteration: 100%|██████████| 196/196 [00:03<00:00, 56.06it/s]\n"
          ]
        },
        {
          "output_type": "stream",
          "name": "stdout",
          "text": [
            "Evaluating...\n"
          ]
        },
        {
          "output_type": "stream",
          "name": "stderr",
          "text": [
            "Iteration: 100%|██████████| 196/196 [00:02<00:00, 95.40it/s]\n",
            "Iteration: 100%|██████████| 25/25 [00:00<00:00, 95.81it/s]\n",
            "Iteration: 100%|██████████| 25/25 [00:00<00:00, 97.32it/s]\n"
          ]
        },
        {
          "output_type": "stream",
          "name": "stdout",
          "text": [
            "Epoch: 35, Loss: 0.1172, Train: 90.52%, Valid: 78.36% Test: 75.22%\n",
            "Training...\n"
          ]
        },
        {
          "output_type": "stream",
          "name": "stderr",
          "text": [
            "Iteration: 100%|██████████| 196/196 [00:03<00:00, 56.42it/s]\n"
          ]
        },
        {
          "output_type": "stream",
          "name": "stdout",
          "text": [
            "Evaluating...\n"
          ]
        },
        {
          "output_type": "stream",
          "name": "stderr",
          "text": [
            "Iteration: 100%|██████████| 196/196 [00:02<00:00, 96.05it/s]\n",
            "Iteration: 100%|██████████| 25/25 [00:00<00:00, 94.29it/s]\n",
            "Iteration: 100%|██████████| 25/25 [00:00<00:00, 99.06it/s]\n"
          ]
        },
        {
          "output_type": "stream",
          "name": "stdout",
          "text": [
            "Epoch: 36, Loss: 0.1667, Train: 90.31%, Valid: 76.22% Test: 74.61%\n",
            "Training...\n"
          ]
        },
        {
          "output_type": "stream",
          "name": "stderr",
          "text": [
            "Iteration: 100%|██████████| 196/196 [00:03<00:00, 55.86it/s]\n"
          ]
        },
        {
          "output_type": "stream",
          "name": "stdout",
          "text": [
            "Evaluating...\n"
          ]
        },
        {
          "output_type": "stream",
          "name": "stderr",
          "text": [
            "Iteration: 100%|██████████| 196/196 [00:02<00:00, 95.01it/s]\n",
            "Iteration: 100%|██████████| 25/25 [00:00<00:00, 95.86it/s]\n",
            "Iteration: 100%|██████████| 25/25 [00:00<00:00, 92.74it/s]\n"
          ]
        },
        {
          "output_type": "stream",
          "name": "stdout",
          "text": [
            "Epoch: 37, Loss: 0.1170, Train: 90.96%, Valid: 77.51% Test: 75.04%\n",
            "Training...\n"
          ]
        },
        {
          "output_type": "stream",
          "name": "stderr",
          "text": [
            "Iteration: 100%|██████████| 196/196 [00:03<00:00, 54.89it/s]\n"
          ]
        },
        {
          "output_type": "stream",
          "name": "stdout",
          "text": [
            "Evaluating...\n"
          ]
        },
        {
          "output_type": "stream",
          "name": "stderr",
          "text": [
            "Iteration: 100%|██████████| 196/196 [00:02<00:00, 94.76it/s]\n",
            "Iteration: 100%|██████████| 25/25 [00:00<00:00, 94.79it/s]\n",
            "Iteration: 100%|██████████| 25/25 [00:00<00:00, 92.52it/s]\n"
          ]
        },
        {
          "output_type": "stream",
          "name": "stdout",
          "text": [
            "Epoch: 38, Loss: 0.1374, Train: 90.74%, Valid: 76.93% Test: 74.52%\n",
            "Training...\n"
          ]
        },
        {
          "output_type": "stream",
          "name": "stderr",
          "text": [
            "Iteration: 100%|██████████| 196/196 [00:03<00:00, 55.44it/s]\n"
          ]
        },
        {
          "output_type": "stream",
          "name": "stdout",
          "text": [
            "Evaluating...\n"
          ]
        },
        {
          "output_type": "stream",
          "name": "stderr",
          "text": [
            "Iteration: 100%|██████████| 196/196 [00:02<00:00, 94.94it/s]\n",
            "Iteration: 100%|██████████| 25/25 [00:00<00:00, 93.37it/s]\n",
            "Iteration: 100%|██████████| 25/25 [00:00<00:00, 92.59it/s]\n"
          ]
        },
        {
          "output_type": "stream",
          "name": "stdout",
          "text": [
            "Epoch: 39, Loss: 0.2065, Train: 90.73%, Valid: 77.82% Test: 74.28%\n",
            "Training...\n"
          ]
        },
        {
          "output_type": "stream",
          "name": "stderr",
          "text": [
            "Iteration: 100%|██████████| 196/196 [00:03<00:00, 56.08it/s]\n"
          ]
        },
        {
          "output_type": "stream",
          "name": "stdout",
          "text": [
            "Evaluating...\n"
          ]
        },
        {
          "output_type": "stream",
          "name": "stderr",
          "text": [
            "Iteration: 100%|██████████| 196/196 [00:02<00:00, 95.07it/s]\n",
            "Iteration: 100%|██████████| 25/25 [00:00<00:00, 96.61it/s]\n",
            "Iteration: 100%|██████████| 25/25 [00:00<00:00, 94.38it/s]\n"
          ]
        },
        {
          "output_type": "stream",
          "name": "stdout",
          "text": [
            "Epoch: 40, Loss: 0.1202, Train: 90.97%, Valid: 77.48% Test: 75.77%\n",
            "Training...\n"
          ]
        },
        {
          "output_type": "stream",
          "name": "stderr",
          "text": [
            "Iteration: 100%|██████████| 196/196 [00:03<00:00, 55.78it/s]\n"
          ]
        },
        {
          "output_type": "stream",
          "name": "stdout",
          "text": [
            "Evaluating...\n"
          ]
        },
        {
          "output_type": "stream",
          "name": "stderr",
          "text": [
            "Iteration: 100%|██████████| 196/196 [00:02<00:00, 96.20it/s]\n",
            "Iteration: 100%|██████████| 25/25 [00:00<00:00, 93.85it/s]\n",
            "Iteration: 100%|██████████| 25/25 [00:00<00:00, 94.54it/s]\n"
          ]
        },
        {
          "output_type": "stream",
          "name": "stdout",
          "text": [
            "Epoch: 41, Loss: 0.1380, Train: 91.02%, Valid: 77.03% Test: 74.36%\n",
            "Training...\n"
          ]
        },
        {
          "output_type": "stream",
          "name": "stderr",
          "text": [
            "Iteration: 100%|██████████| 196/196 [00:03<00:00, 56.19it/s]\n"
          ]
        },
        {
          "output_type": "stream",
          "name": "stdout",
          "text": [
            "Evaluating...\n"
          ]
        },
        {
          "output_type": "stream",
          "name": "stderr",
          "text": [
            "Iteration: 100%|██████████| 196/196 [00:02<00:00, 96.24it/s]\n",
            "Iteration: 100%|██████████| 25/25 [00:00<00:00, 95.00it/s]\n",
            "Iteration: 100%|██████████| 25/25 [00:00<00:00, 95.51it/s]\n"
          ]
        },
        {
          "output_type": "stream",
          "name": "stdout",
          "text": [
            "Epoch: 42, Loss: 0.1552, Train: 91.15%, Valid: 77.78% Test: 74.92%\n",
            "Training...\n"
          ]
        },
        {
          "output_type": "stream",
          "name": "stderr",
          "text": [
            "Iteration: 100%|██████████| 196/196 [00:03<00:00, 54.81it/s]\n"
          ]
        },
        {
          "output_type": "stream",
          "name": "stdout",
          "text": [
            "Evaluating...\n"
          ]
        },
        {
          "output_type": "stream",
          "name": "stderr",
          "text": [
            "Iteration: 100%|██████████| 196/196 [00:02<00:00, 93.80it/s]\n",
            "Iteration: 100%|██████████| 25/25 [00:00<00:00, 93.92it/s]\n",
            "Iteration: 100%|██████████| 25/25 [00:00<00:00, 97.91it/s]\n"
          ]
        },
        {
          "output_type": "stream",
          "name": "stdout",
          "text": [
            "Epoch: 43, Loss: 0.1679, Train: 91.03%, Valid: 77.62% Test: 74.42%\n",
            "Training...\n"
          ]
        },
        {
          "output_type": "stream",
          "name": "stderr",
          "text": [
            "Iteration: 100%|██████████| 196/196 [00:03<00:00, 55.97it/s]\n"
          ]
        },
        {
          "output_type": "stream",
          "name": "stdout",
          "text": [
            "Evaluating...\n"
          ]
        },
        {
          "output_type": "stream",
          "name": "stderr",
          "text": [
            "Iteration: 100%|██████████| 196/196 [00:02<00:00, 94.69it/s]\n",
            "Iteration: 100%|██████████| 25/25 [00:00<00:00, 93.18it/s]\n",
            "Iteration: 100%|██████████| 25/25 [00:00<00:00, 97.33it/s]\n"
          ]
        },
        {
          "output_type": "stream",
          "name": "stdout",
          "text": [
            "Epoch: 44, Loss: 0.1449, Train: 91.51%, Valid: 77.01% Test: 74.68%\n",
            "Training...\n"
          ]
        },
        {
          "output_type": "stream",
          "name": "stderr",
          "text": [
            "Iteration: 100%|██████████| 196/196 [00:03<00:00, 55.74it/s]\n"
          ]
        },
        {
          "output_type": "stream",
          "name": "stdout",
          "text": [
            "Evaluating...\n"
          ]
        },
        {
          "output_type": "stream",
          "name": "stderr",
          "text": [
            "Iteration: 100%|██████████| 196/196 [00:02<00:00, 95.19it/s]\n",
            "Iteration: 100%|██████████| 25/25 [00:00<00:00, 93.18it/s]\n",
            "Iteration: 100%|██████████| 25/25 [00:00<00:00, 97.44it/s]\n"
          ]
        },
        {
          "output_type": "stream",
          "name": "stdout",
          "text": [
            "Epoch: 45, Loss: 0.1015, Train: 91.88%, Valid: 77.61% Test: 75.27%\n",
            "Training...\n"
          ]
        },
        {
          "output_type": "stream",
          "name": "stderr",
          "text": [
            "Iteration: 100%|██████████| 196/196 [00:03<00:00, 55.39it/s]\n"
          ]
        },
        {
          "output_type": "stream",
          "name": "stdout",
          "text": [
            "Evaluating...\n"
          ]
        },
        {
          "output_type": "stream",
          "name": "stderr",
          "text": [
            "Iteration: 100%|██████████| 196/196 [00:02<00:00, 95.55it/s]\n",
            "Iteration: 100%|██████████| 25/25 [00:00<00:00, 93.40it/s]\n",
            "Iteration: 100%|██████████| 25/25 [00:00<00:00, 95.85it/s]\n"
          ]
        },
        {
          "output_type": "stream",
          "name": "stdout",
          "text": [
            "Epoch: 46, Loss: 0.2205, Train: 91.44%, Valid: 77.17% Test: 74.66%\n",
            "Training...\n"
          ]
        },
        {
          "output_type": "stream",
          "name": "stderr",
          "text": [
            "Iteration: 100%|██████████| 196/196 [00:03<00:00, 56.02it/s]\n"
          ]
        },
        {
          "output_type": "stream",
          "name": "stdout",
          "text": [
            "Evaluating...\n"
          ]
        },
        {
          "output_type": "stream",
          "name": "stderr",
          "text": [
            "Iteration: 100%|██████████| 196/196 [00:02<00:00, 96.91it/s]\n",
            "Iteration: 100%|██████████| 25/25 [00:00<00:00, 97.00it/s]\n",
            "Iteration: 100%|██████████| 25/25 [00:00<00:00, 92.25it/s]\n"
          ]
        },
        {
          "output_type": "stream",
          "name": "stdout",
          "text": [
            "Epoch: 47, Loss: 0.0699, Train: 92.02%, Valid: 77.22% Test: 74.64%\n",
            "Training...\n"
          ]
        },
        {
          "output_type": "stream",
          "name": "stderr",
          "text": [
            "Iteration: 100%|██████████| 196/196 [00:03<00:00, 54.09it/s]\n"
          ]
        },
        {
          "output_type": "stream",
          "name": "stdout",
          "text": [
            "Evaluating...\n"
          ]
        },
        {
          "output_type": "stream",
          "name": "stderr",
          "text": [
            "Iteration: 100%|██████████| 196/196 [00:02<00:00, 95.77it/s]\n",
            "Iteration: 100%|██████████| 25/25 [00:00<00:00, 94.37it/s]\n",
            "Iteration: 100%|██████████| 25/25 [00:00<00:00, 95.15it/s]\n"
          ]
        },
        {
          "output_type": "stream",
          "name": "stdout",
          "text": [
            "Epoch: 48, Loss: 0.1170, Train: 91.79%, Valid: 77.29% Test: 74.75%\n",
            "Training...\n"
          ]
        },
        {
          "output_type": "stream",
          "name": "stderr",
          "text": [
            "Iteration: 100%|██████████| 196/196 [00:03<00:00, 55.59it/s]\n"
          ]
        },
        {
          "output_type": "stream",
          "name": "stdout",
          "text": [
            "Evaluating...\n"
          ]
        },
        {
          "output_type": "stream",
          "name": "stderr",
          "text": [
            "Iteration: 100%|██████████| 196/196 [00:02<00:00, 93.64it/s]\n",
            "Iteration: 100%|██████████| 25/25 [00:00<00:00, 94.64it/s]\n",
            "Iteration: 100%|██████████| 25/25 [00:00<00:00, 92.92it/s]\n"
          ]
        },
        {
          "output_type": "stream",
          "name": "stdout",
          "text": [
            "Epoch: 49, Loss: 0.0781, Train: 92.01%, Valid: 77.21% Test: 74.19%\n",
            "Training...\n"
          ]
        },
        {
          "output_type": "stream",
          "name": "stderr",
          "text": [
            "Iteration: 100%|██████████| 196/196 [00:03<00:00, 55.37it/s]\n"
          ]
        },
        {
          "output_type": "stream",
          "name": "stdout",
          "text": [
            "Evaluating...\n"
          ]
        },
        {
          "output_type": "stream",
          "name": "stderr",
          "text": [
            "Iteration: 100%|██████████| 196/196 [00:02<00:00, 95.37it/s]\n",
            "Iteration: 100%|██████████| 25/25 [00:00<00:00, 93.96it/s]\n",
            "Iteration: 100%|██████████| 25/25 [00:00<00:00, 96.01it/s]\n"
          ]
        },
        {
          "output_type": "stream",
          "name": "stdout",
          "text": [
            "Epoch: 50, Loss: 0.1660, Train: 92.11%, Valid: 77.25% Test: 74.94%\n",
            "Training...\n"
          ]
        },
        {
          "output_type": "stream",
          "name": "stderr",
          "text": [
            "Iteration: 100%|██████████| 196/196 [00:03<00:00, 55.68it/s]\n"
          ]
        },
        {
          "output_type": "stream",
          "name": "stdout",
          "text": [
            "Evaluating...\n"
          ]
        },
        {
          "output_type": "stream",
          "name": "stderr",
          "text": [
            "Iteration: 100%|██████████| 196/196 [00:02<00:00, 95.05it/s]\n",
            "Iteration: 100%|██████████| 25/25 [00:00<00:00, 93.92it/s]\n",
            "Iteration: 100%|██████████| 25/25 [00:00<00:00, 94.05it/s]\n"
          ]
        },
        {
          "output_type": "stream",
          "name": "stdout",
          "text": [
            "Epoch: 51, Loss: 0.1232, Train: 92.44%, Valid: 76.90% Test: 73.91%\n",
            "Training...\n"
          ]
        },
        {
          "output_type": "stream",
          "name": "stderr",
          "text": [
            "Iteration: 100%|██████████| 196/196 [00:03<00:00, 55.69it/s]\n"
          ]
        },
        {
          "output_type": "stream",
          "name": "stdout",
          "text": [
            "Evaluating...\n"
          ]
        },
        {
          "output_type": "stream",
          "name": "stderr",
          "text": [
            "Iteration: 100%|██████████| 196/196 [00:02<00:00, 95.22it/s]\n",
            "Iteration: 100%|██████████| 25/25 [00:00<00:00, 89.62it/s]\n",
            "Iteration: 100%|██████████| 25/25 [00:00<00:00, 89.68it/s]\n"
          ]
        },
        {
          "output_type": "stream",
          "name": "stdout",
          "text": [
            "Epoch: 52, Loss: 0.1503, Train: 92.42%, Valid: 76.95% Test: 74.75%\n",
            "Training...\n"
          ]
        },
        {
          "output_type": "stream",
          "name": "stderr",
          "text": [
            "Iteration: 100%|██████████| 196/196 [00:03<00:00, 54.77it/s]\n"
          ]
        },
        {
          "output_type": "stream",
          "name": "stdout",
          "text": [
            "Evaluating...\n"
          ]
        },
        {
          "output_type": "stream",
          "name": "stderr",
          "text": [
            "Iteration: 100%|██████████| 196/196 [00:02<00:00, 94.52it/s]\n",
            "Iteration: 100%|██████████| 25/25 [00:00<00:00, 91.84it/s]\n",
            "Iteration: 100%|██████████| 25/25 [00:00<00:00, 93.00it/s]\n"
          ]
        },
        {
          "output_type": "stream",
          "name": "stdout",
          "text": [
            "Epoch: 53, Loss: 0.1415, Train: 92.55%, Valid: 77.77% Test: 75.15%\n",
            "Training...\n"
          ]
        },
        {
          "output_type": "stream",
          "name": "stderr",
          "text": [
            "Iteration: 100%|██████████| 196/196 [00:03<00:00, 55.02it/s]\n"
          ]
        },
        {
          "output_type": "stream",
          "name": "stdout",
          "text": [
            "Evaluating...\n"
          ]
        },
        {
          "output_type": "stream",
          "name": "stderr",
          "text": [
            "Iteration: 100%|██████████| 196/196 [00:02<00:00, 94.03it/s]\n",
            "Iteration: 100%|██████████| 25/25 [00:00<00:00, 93.43it/s]\n",
            "Iteration: 100%|██████████| 25/25 [00:00<00:00, 96.61it/s]\n"
          ]
        },
        {
          "output_type": "stream",
          "name": "stdout",
          "text": [
            "Epoch: 54, Loss: 0.1338, Train: 92.67%, Valid: 76.45% Test: 74.67%\n",
            "Training...\n"
          ]
        },
        {
          "output_type": "stream",
          "name": "stderr",
          "text": [
            "Iteration: 100%|██████████| 196/196 [00:03<00:00, 54.65it/s]\n"
          ]
        },
        {
          "output_type": "stream",
          "name": "stdout",
          "text": [
            "Evaluating...\n"
          ]
        },
        {
          "output_type": "stream",
          "name": "stderr",
          "text": [
            "Iteration: 100%|██████████| 196/196 [00:02<00:00, 95.30it/s]\n",
            "Iteration: 100%|██████████| 25/25 [00:00<00:00, 97.53it/s]\n",
            "Iteration: 100%|██████████| 25/25 [00:00<00:00, 95.38it/s]\n"
          ]
        },
        {
          "output_type": "stream",
          "name": "stdout",
          "text": [
            "Epoch: 55, Loss: 0.1547, Train: 92.67%, Valid: 77.46% Test: 75.12%\n",
            "Training...\n"
          ]
        },
        {
          "output_type": "stream",
          "name": "stderr",
          "text": [
            "Iteration: 100%|██████████| 196/196 [00:03<00:00, 55.50it/s]\n"
          ]
        },
        {
          "output_type": "stream",
          "name": "stdout",
          "text": [
            "Evaluating...\n"
          ]
        },
        {
          "output_type": "stream",
          "name": "stderr",
          "text": [
            "Iteration: 100%|██████████| 196/196 [00:02<00:00, 95.47it/s]\n",
            "Iteration: 100%|██████████| 25/25 [00:00<00:00, 95.62it/s]\n",
            "Iteration: 100%|██████████| 25/25 [00:00<00:00, 94.20it/s]\n"
          ]
        },
        {
          "output_type": "stream",
          "name": "stdout",
          "text": [
            "Epoch: 56, Loss: 0.0906, Train: 92.68%, Valid: 76.98% Test: 74.73%\n",
            "Training...\n"
          ]
        },
        {
          "output_type": "stream",
          "name": "stderr",
          "text": [
            "Iteration: 100%|██████████| 196/196 [00:03<00:00, 55.47it/s]\n"
          ]
        },
        {
          "output_type": "stream",
          "name": "stdout",
          "text": [
            "Evaluating...\n"
          ]
        },
        {
          "output_type": "stream",
          "name": "stderr",
          "text": [
            "Iteration: 100%|██████████| 196/196 [00:02<00:00, 95.15it/s]\n",
            "Iteration: 100%|██████████| 25/25 [00:00<00:00, 96.15it/s]\n",
            "Iteration: 100%|██████████| 25/25 [00:00<00:00, 93.34it/s]\n"
          ]
        },
        {
          "output_type": "stream",
          "name": "stdout",
          "text": [
            "Epoch: 57, Loss: 0.2671, Train: 92.52%, Valid: 78.14% Test: 74.94%\n",
            "Training...\n"
          ]
        },
        {
          "output_type": "stream",
          "name": "stderr",
          "text": [
            "Iteration: 100%|██████████| 196/196 [00:03<00:00, 54.65it/s]\n"
          ]
        },
        {
          "output_type": "stream",
          "name": "stdout",
          "text": [
            "Evaluating...\n"
          ]
        },
        {
          "output_type": "stream",
          "name": "stderr",
          "text": [
            "Iteration: 100%|██████████| 196/196 [00:02<00:00, 95.05it/s]\n",
            "Iteration: 100%|██████████| 25/25 [00:00<00:00, 95.38it/s]\n",
            "Iteration: 100%|██████████| 25/25 [00:00<00:00, 95.20it/s]\n"
          ]
        },
        {
          "output_type": "stream",
          "name": "stdout",
          "text": [
            "Epoch: 58, Loss: 0.1111, Train: 92.96%, Valid: 78.19% Test: 74.64%\n",
            "Training...\n"
          ]
        },
        {
          "output_type": "stream",
          "name": "stderr",
          "text": [
            "Iteration: 100%|██████████| 196/196 [00:03<00:00, 55.95it/s]\n"
          ]
        },
        {
          "output_type": "stream",
          "name": "stdout",
          "text": [
            "Evaluating...\n"
          ]
        },
        {
          "output_type": "stream",
          "name": "stderr",
          "text": [
            "Iteration: 100%|██████████| 196/196 [00:02<00:00, 95.80it/s]\n",
            "Iteration: 100%|██████████| 25/25 [00:00<00:00, 91.95it/s]\n",
            "Iteration: 100%|██████████| 25/25 [00:00<00:00, 94.48it/s]\n"
          ]
        },
        {
          "output_type": "stream",
          "name": "stdout",
          "text": [
            "Epoch: 59, Loss: 0.1551, Train: 92.65%, Valid: 76.15% Test: 74.31%\n",
            "Training...\n"
          ]
        },
        {
          "output_type": "stream",
          "name": "stderr",
          "text": [
            "Iteration: 100%|██████████| 196/196 [00:03<00:00, 55.85it/s]\n"
          ]
        },
        {
          "output_type": "stream",
          "name": "stdout",
          "text": [
            "Evaluating...\n"
          ]
        },
        {
          "output_type": "stream",
          "name": "stderr",
          "text": [
            "Iteration: 100%|██████████| 196/196 [00:02<00:00, 95.49it/s]\n",
            "Iteration: 100%|██████████| 25/25 [00:00<00:00, 95.85it/s]\n",
            "Iteration: 100%|██████████| 25/25 [00:00<00:00, 91.39it/s]\n"
          ]
        },
        {
          "output_type": "stream",
          "name": "stdout",
          "text": [
            "Epoch: 60, Loss: 0.1344, Train: 93.03%, Valid: 77.71% Test: 74.47%\n",
            "Training...\n"
          ]
        },
        {
          "output_type": "stream",
          "name": "stderr",
          "text": [
            "Iteration: 100%|██████████| 196/196 [00:03<00:00, 55.79it/s]\n"
          ]
        },
        {
          "output_type": "stream",
          "name": "stdout",
          "text": [
            "Evaluating...\n"
          ]
        },
        {
          "output_type": "stream",
          "name": "stderr",
          "text": [
            "Iteration: 100%|██████████| 196/196 [00:02<00:00, 95.45it/s]\n",
            "Iteration: 100%|██████████| 25/25 [00:00<00:00, 97.70it/s]\n",
            "Iteration: 100%|██████████| 25/25 [00:00<00:00, 93.91it/s]\n"
          ]
        },
        {
          "output_type": "stream",
          "name": "stdout",
          "text": [
            "Epoch: 61, Loss: 0.1012, Train: 93.10%, Valid: 77.83% Test: 75.17%\n",
            "Training...\n"
          ]
        },
        {
          "output_type": "stream",
          "name": "stderr",
          "text": [
            "Iteration: 100%|██████████| 196/196 [00:03<00:00, 55.81it/s]\n"
          ]
        },
        {
          "output_type": "stream",
          "name": "stdout",
          "text": [
            "Evaluating...\n"
          ]
        },
        {
          "output_type": "stream",
          "name": "stderr",
          "text": [
            "Iteration: 100%|██████████| 196/196 [00:02<00:00, 94.22it/s]\n",
            "Iteration: 100%|██████████| 25/25 [00:00<00:00, 92.25it/s]\n",
            "Iteration: 100%|██████████| 25/25 [00:00<00:00, 93.87it/s]\n"
          ]
        },
        {
          "output_type": "stream",
          "name": "stdout",
          "text": [
            "Epoch: 62, Loss: 0.1302, Train: 92.76%, Valid: 77.69% Test: 75.03%\n",
            "Training...\n"
          ]
        },
        {
          "output_type": "stream",
          "name": "stderr",
          "text": [
            "Iteration: 100%|██████████| 196/196 [00:03<00:00, 54.80it/s]\n"
          ]
        },
        {
          "output_type": "stream",
          "name": "stdout",
          "text": [
            "Evaluating...\n"
          ]
        },
        {
          "output_type": "stream",
          "name": "stderr",
          "text": [
            "Iteration: 100%|██████████| 196/196 [00:02<00:00, 95.10it/s]\n",
            "Iteration: 100%|██████████| 25/25 [00:00<00:00, 92.43it/s]\n",
            "Iteration: 100%|██████████| 25/25 [00:00<00:00, 94.63it/s]\n"
          ]
        },
        {
          "output_type": "stream",
          "name": "stdout",
          "text": [
            "Epoch: 63, Loss: 0.1053, Train: 93.40%, Valid: 77.50% Test: 75.33%\n",
            "Training...\n"
          ]
        },
        {
          "output_type": "stream",
          "name": "stderr",
          "text": [
            "Iteration: 100%|██████████| 196/196 [00:03<00:00, 55.93it/s]\n"
          ]
        },
        {
          "output_type": "stream",
          "name": "stdout",
          "text": [
            "Evaluating...\n"
          ]
        },
        {
          "output_type": "stream",
          "name": "stderr",
          "text": [
            "Iteration: 100%|██████████| 196/196 [00:02<00:00, 95.92it/s]\n",
            "Iteration: 100%|██████████| 25/25 [00:00<00:00, 93.51it/s]\n",
            "Iteration: 100%|██████████| 25/25 [00:00<00:00, 97.32it/s]\n"
          ]
        },
        {
          "output_type": "stream",
          "name": "stdout",
          "text": [
            "Epoch: 64, Loss: 0.1639, Train: 93.18%, Valid: 77.16% Test: 75.07%\n",
            "Training...\n"
          ]
        },
        {
          "output_type": "stream",
          "name": "stderr",
          "text": [
            "Iteration: 100%|██████████| 196/196 [00:03<00:00, 56.27it/s]\n"
          ]
        },
        {
          "output_type": "stream",
          "name": "stdout",
          "text": [
            "Evaluating...\n"
          ]
        },
        {
          "output_type": "stream",
          "name": "stderr",
          "text": [
            "Iteration: 100%|██████████| 196/196 [00:02<00:00, 94.96it/s]\n",
            "Iteration: 100%|██████████| 25/25 [00:00<00:00, 93.13it/s]\n",
            "Iteration: 100%|██████████| 25/25 [00:00<00:00, 92.97it/s]\n"
          ]
        },
        {
          "output_type": "stream",
          "name": "stdout",
          "text": [
            "Epoch: 65, Loss: 0.1476, Train: 93.15%, Valid: 77.64% Test: 74.76%\n",
            "Training...\n"
          ]
        },
        {
          "output_type": "stream",
          "name": "stderr",
          "text": [
            "Iteration: 100%|██████████| 196/196 [00:03<00:00, 55.17it/s]\n"
          ]
        },
        {
          "output_type": "stream",
          "name": "stdout",
          "text": [
            "Evaluating...\n"
          ]
        },
        {
          "output_type": "stream",
          "name": "stderr",
          "text": [
            "Iteration: 100%|██████████| 196/196 [00:02<00:00, 93.81it/s]\n",
            "Iteration: 100%|██████████| 25/25 [00:00<00:00, 93.69it/s]\n",
            "Iteration: 100%|██████████| 25/25 [00:00<00:00, 96.58it/s]\n"
          ]
        },
        {
          "output_type": "stream",
          "name": "stdout",
          "text": [
            "Epoch: 66, Loss: 0.1969, Train: 93.22%, Valid: 77.84% Test: 75.10%\n",
            "Training...\n"
          ]
        },
        {
          "output_type": "stream",
          "name": "stderr",
          "text": [
            "Iteration: 100%|██████████| 196/196 [00:03<00:00, 54.76it/s]\n"
          ]
        },
        {
          "output_type": "stream",
          "name": "stdout",
          "text": [
            "Evaluating...\n"
          ]
        },
        {
          "output_type": "stream",
          "name": "stderr",
          "text": [
            "Iteration: 100%|██████████| 196/196 [00:02<00:00, 94.29it/s]\n",
            "Iteration: 100%|██████████| 25/25 [00:00<00:00, 94.53it/s]\n",
            "Iteration: 100%|██████████| 25/25 [00:00<00:00, 92.06it/s]\n"
          ]
        },
        {
          "output_type": "stream",
          "name": "stdout",
          "text": [
            "Epoch: 67, Loss: 0.1063, Train: 93.40%, Valid: 76.55% Test: 75.36%\n",
            "Training...\n"
          ]
        },
        {
          "output_type": "stream",
          "name": "stderr",
          "text": [
            "Iteration: 100%|██████████| 196/196 [00:03<00:00, 54.85it/s]\n"
          ]
        },
        {
          "output_type": "stream",
          "name": "stdout",
          "text": [
            "Evaluating...\n"
          ]
        },
        {
          "output_type": "stream",
          "name": "stderr",
          "text": [
            "Iteration: 100%|██████████| 196/196 [00:02<00:00, 96.03it/s]\n",
            "Iteration: 100%|██████████| 25/25 [00:00<00:00, 94.71it/s]\n",
            "Iteration: 100%|██████████| 25/25 [00:00<00:00, 94.84it/s]\n"
          ]
        },
        {
          "output_type": "stream",
          "name": "stdout",
          "text": [
            "Epoch: 68, Loss: 0.1254, Train: 93.63%, Valid: 77.56% Test: 75.37%\n",
            "Training...\n"
          ]
        },
        {
          "output_type": "stream",
          "name": "stderr",
          "text": [
            "Iteration: 100%|██████████| 196/196 [00:03<00:00, 55.97it/s]\n"
          ]
        },
        {
          "output_type": "stream",
          "name": "stdout",
          "text": [
            "Evaluating...\n"
          ]
        },
        {
          "output_type": "stream",
          "name": "stderr",
          "text": [
            "Iteration: 100%|██████████| 196/196 [00:02<00:00, 95.53it/s]\n",
            "Iteration: 100%|██████████| 25/25 [00:00<00:00, 96.53it/s]\n",
            "Iteration: 100%|██████████| 25/25 [00:00<00:00, 97.20it/s]\n"
          ]
        },
        {
          "output_type": "stream",
          "name": "stdout",
          "text": [
            "Epoch: 69, Loss: 0.1576, Train: 93.40%, Valid: 78.31% Test: 74.25%\n",
            "Training...\n"
          ]
        },
        {
          "output_type": "stream",
          "name": "stderr",
          "text": [
            "Iteration: 100%|██████████| 196/196 [00:03<00:00, 55.57it/s]\n"
          ]
        },
        {
          "output_type": "stream",
          "name": "stdout",
          "text": [
            "Evaluating...\n"
          ]
        },
        {
          "output_type": "stream",
          "name": "stderr",
          "text": [
            "Iteration: 100%|██████████| 196/196 [00:02<00:00, 95.42it/s]\n",
            "Iteration: 100%|██████████| 25/25 [00:00<00:00, 94.67it/s]\n",
            "Iteration: 100%|██████████| 25/25 [00:00<00:00, 95.92it/s]"
          ]
        },
        {
          "output_type": "stream",
          "name": "stdout",
          "text": [
            "Epoch: 70, Loss: 0.1214, Train: 93.33%, Valid: 77.08% Test: 75.29%\n"
          ]
        },
        {
          "output_type": "stream",
          "name": "stderr",
          "text": [
            "\n"
          ]
        }
      ]
    },
    {
      "cell_type": "markdown",
      "source": [
        "## Evaluation"
      ],
      "metadata": {
        "id": "Qs3GlFXkN-TS"
      }
    },
    {
      "cell_type": "code",
      "source": [
        "train_acc = eval(best_model, device, train_loader, evaluator)[dataset.eval_metric]\n",
        "valid_acc = eval(best_model, device, valid_loader, evaluator)[dataset.eval_metric]\n",
        "test_acc = eval(best_model, device, test_loader, evaluator, save_model_results=True, save_file=\"test\")[dataset.eval_metric]\n",
        "\n",
        "print(f'Best model: '\n",
        "   f'Train: {100 * train_acc:.2f}%, '\n",
        "   f'Valid: {100 * valid_acc:.2f}% '\n",
        "   f'Test: {100 * test_acc:.2f}%')"
      ],
      "metadata": {
        "id": "4015Vss98Vz2",
        "colab": {
          "base_uri": "https://localhost:8080/"
        },
        "outputId": "879635f2-e8ea-4710-ee1a-d20b77e14c02"
      },
      "execution_count": 79,
      "outputs": [
        {
          "output_type": "stream",
          "name": "stderr",
          "text": [
            "Iteration: 100%|██████████| 196/196 [00:02<00:00, 94.89it/s]\n",
            "Iteration: 100%|██████████| 25/25 [00:00<00:00, 93.94it/s]\n",
            "Iteration: 100%|██████████| 25/25 [00:00<00:00, 96.05it/s]"
          ]
        },
        {
          "output_type": "stream",
          "name": "stdout",
          "text": [
            "Saving Model Predictions\n",
            "Best model: Train: 90.52%, Valid: 78.36% Test: 75.22%\n"
          ]
        },
        {
          "output_type": "stream",
          "name": "stderr",
          "text": [
            "\n"
          ]
        }
      ]
    },
    {
      "cell_type": "markdown",
      "source": [
        "# Submission\n",
        "\n",
        "The default hyper-parameters are not optimal.\n",
        "Play with the hyper-parameters in the [`args` dictionary](#args_cell) to achieve better performance, like what we did in previous assignments."
      ],
      "metadata": {
        "id": "jDyO1vSV7kf-"
      }
    },
    {
      "cell_type": "markdown",
      "source": [
        "During the evaluation, the predicted labels for the test dataset have been saved to a csv file by setting `save_model_results=True`. Once you finished training the model, click the \"files\" button in the sidebar and download the `ogbg-moltox21_graph_test.csv` file.\n",
        "\n",
        "**Submit the `.ipynb` file and the `.csv` file to gradescope.** To prevent failing the autograder accidentally,\n",
        "- Don't change the filenames.\n",
        "- Don't add/remove cells in this notebook.\n",
        "- Don't change the existing skeleton code."
      ],
      "metadata": {
        "id": "EtFljRW96tVp"
      }
    }
  ]
}